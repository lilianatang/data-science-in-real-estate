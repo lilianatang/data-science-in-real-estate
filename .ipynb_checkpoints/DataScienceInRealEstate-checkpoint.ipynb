{
 "cells": [
  {
   "cell_type": "code",
   "execution_count": 1,
   "metadata": {
    "editable": true
   },
   "outputs": [],
   "source": [
    "import pandas as pd\n",
    "import os\n",
    "from pyspark import SparkContext\n",
    "from pyspark.sql import SQLContext\n",
    "import cassandra\n",
    "from cassandra.cluster import Cluster\n",
    "import pandas as pd\n",
    "import csv\n",
    "from pyspark.sql.types import *\n",
    "from pyspark.sql import SparkSession\n",
    "from pyspark.sql.functions import udf, col\n",
    "from pyspark.sql.functions import year, month, dayofmonth, hour, weekofyear, date_format\n",
    "from pyspark.sql import functions as F\n",
    "from pyspark.sql import Window\n",
    "from pyspark import SparkConf\n",
    "import numpy as np\n",
    "import matplotlib.pyplot as plt\n",
    "import seaborn as sb\n",
    "%matplotlib inline"
   ]
  },
  {
   "cell_type": "code",
   "execution_count": 2,
   "metadata": {
    "editable": true
   },
   "outputs": [],
   "source": [
    "def create_spark_session():\n",
    "    spark = SparkSession \\\n",
    "        .builder \\\n",
    "        .config(\"spark.jars.packages\", \"org.apache.hadoop:hadoop-aws:2.7.0\") \\\n",
    "        .getOrCreate()\n",
    "    return spark\n",
    "spark = create_spark_session()"
   ]
  },
  {
   "cell_type": "code",
   "execution_count": 3,
   "metadata": {
    "editable": true
   },
   "outputs": [
    {
     "data": {
      "text/plain": [
       "3377500"
      ]
     },
     "execution_count": 3,
     "metadata": {},
     "output_type": "execute_result"
    }
   ],
   "source": [
    "houses = spark.read.parquet(\"output/houses.parquet\")\n",
    "houses.count()"
   ]
  },
  {
   "cell_type": "markdown",
   "metadata": {
    "editable": true
   },
   "source": [
    "#### Question 1: Does residential or commercial real estate have higher Return on Investment (ROI)?"
   ]
  },
  {
   "cell_type": "code",
   "execution_count": 4,
   "metadata": {
    "editable": true
   },
   "outputs": [],
   "source": [
    "houses.createOrReplaceTempView(\"houses_table\")"
   ]
  },
  {
   "cell_type": "code",
   "execution_count": 5,
   "metadata": {
    "editable": true
   },
   "outputs": [
    {
     "name": "stdout",
     "output_type": "stream",
     "text": [
      "+---------------+\n",
      "|assessment_year|\n",
      "+---------------+\n",
      "|           2012|\n",
      "|           2013|\n",
      "|           2014|\n",
      "|           2015|\n",
      "|           2016|\n",
      "|           2017|\n",
      "|           2018|\n",
      "|           2019|\n",
      "|           2020|\n",
      "+---------------+\n",
      "\n"
     ]
    }
   ],
   "source": [
    "# find out how many years the dataset has\n",
    "spark.sql(\"SELECT distinct assessment_year FROM houses_table ORDER BY assessment_year\").show()"
   ]
  },
  {
   "cell_type": "code",
   "execution_count": 6,
   "metadata": {
    "editable": true
   },
   "outputs": [],
   "source": [
    "# Other Residential = Multi-family (apartments & townhouses)\n",
    "# Residential with suite = Individual townhouse/ condo/ apartment\n",
    "final_df = spark.sql(\"SELECT 2012 AS year, mill_class_1, AVG(assessed_value) AS average_value FROM houses_table WHERE assessment_year = 2012 GROUP BY mill_class_1 \\\n",
    "        UNION ALL (SELECT 2020 AS year, mill_class_1, AVG(assessed_value) AS average_value FROM houses_table WHERE assessment_year = 2020 GROUP BY mill_class_1)\")"
   ]
  },
  {
   "cell_type": "code",
   "execution_count": 7,
   "metadata": {
    "editable": true
   },
   "outputs": [],
   "source": [
    "final_df.createOrReplaceTempView(\"houses_data_table\")"
   ]
  },
  {
   "cell_type": "code",
   "execution_count": 8,
   "metadata": {
    "editable": true
   },
   "outputs": [
    {
     "name": "stdout",
     "output_type": "stream",
     "text": [
      "+----+-----------------+------------------+\n",
      "|year|     mill_class_1|     average_value|\n",
      "+----+-----------------+------------------+\n",
      "|2012|      RESIDENTIAL|  299148.848241828|\n",
      "|2012|OTHER RESIDENTIAL| 2592253.510961214|\n",
      "|2012|         FARMLAND| 48946.46680942184|\n",
      "|2012|       COMMERCIAL|2039715.9437844397|\n",
      "+----+-----------------+------------------+\n",
      "\n"
     ]
    }
   ],
   "source": [
    "spark.sql(\"SELECT * from houses_data_table WHERE year = 2012\").show()"
   ]
  },
  {
   "cell_type": "code",
   "execution_count": 9,
   "metadata": {
    "editable": true
   },
   "outputs": [],
   "source": [
    "ROI_df = spark.sql(\"SELECT a.mill_class_1, a.average_value AS 2012_value, b.average_value AS 2020_value, (b.average_value - a.average_value)/a.average_value * 100 AS ROI FROM (SELECT mill_class_1, year, average_value from houses_data_table WHERE year = 2012) a \\\n",
    "        JOIN (SELECT mill_class_1, year, average_value from houses_data_table WHERE year = 2020) b ON a.mill_class_1 = b.mill_class_1 \\\n",
    "        WHERE a.mill_class_1 = 'RESIDENTIAL' OR a.mill_class_1 = 'OTHER RESIDENTIAL' ORDER BY (b.average_value - a.average_value)/a.average_value * 100 desc\")"
   ]
  },
  {
   "cell_type": "code",
   "execution_count": 10,
   "metadata": {
    "editable": true
   },
   "outputs": [],
   "source": [
    "ROI_df.createOrReplaceTempView(\"ROI_table\")\n",
    "final_ROI_df = spark.sql(\"SELECT ROI, CASE WHEN mill_class_1 = 'OTHER RESIDENTIAL' THEN 'Multi family' ELSE 'Single family' END AS property_type FROM ROI_table\")"
   ]
  },
  {
   "cell_type": "code",
   "execution_count": 11,
   "metadata": {
    "editable": true
   },
   "outputs": [
    {
     "data": {
      "text/html": [
       "<div>\n",
       "<style scoped>\n",
       "    .dataframe tbody tr th:only-of-type {\n",
       "        vertical-align: middle;\n",
       "    }\n",
       "\n",
       "    .dataframe tbody tr th {\n",
       "        vertical-align: top;\n",
       "    }\n",
       "\n",
       "    .dataframe thead th {\n",
       "        text-align: right;\n",
       "    }\n",
       "</style>\n",
       "<table border=\"1\" class=\"dataframe\">\n",
       "  <thead>\n",
       "    <tr style=\"text-align: right;\">\n",
       "      <th></th>\n",
       "      <th>ROI</th>\n",
       "      <th>property_type</th>\n",
       "    </tr>\n",
       "  </thead>\n",
       "  <tbody>\n",
       "    <tr>\n",
       "      <th>0</th>\n",
       "      <td>58.505248</td>\n",
       "      <td>Multi family</td>\n",
       "    </tr>\n",
       "    <tr>\n",
       "      <th>1</th>\n",
       "      <td>5.447279</td>\n",
       "      <td>Single family</td>\n",
       "    </tr>\n",
       "  </tbody>\n",
       "</table>\n",
       "</div>"
      ],
      "text/plain": [
       "         ROI  property_type\n",
       "0  58.505248   Multi family\n",
       "1   5.447279  Single family"
      ]
     },
     "execution_count": 11,
     "metadata": {},
     "output_type": "execute_result"
    }
   ],
   "source": [
    "final_ROI_df = final_ROI_df.toPandas()\n",
    "final_ROI_df= final_ROI_df.sort_values('ROI',ascending=False)\n",
    "final_ROI_df.head()"
   ]
  },
  {
   "cell_type": "code",
   "execution_count": 12,
   "metadata": {
    "editable": true
   },
   "outputs": [
    {
     "data": {
      "image/png": "[encoded data removed]",
      "text/plain": [
       "<matplotlib.figure.Figure at 0x7f0ae41c17b8>"
      ]
     },
     "metadata": {
      "needs_background": "light"
     },
     "output_type": "display_data"
    }
   ],
   "source": [
    "# Return the Series having unique values\n",
    "df_sorted_desc= final_ROI_df.sort_values('ROI',ascending=False)\n",
    "df_sorted_desc.head()\n",
    "plt.bar(\"property_type\", \"ROI\", data=final_ROI_df)\n",
    "# Labeling the axes\n",
    "plt.xlabel('Property Type')\n",
    "plt.ylabel('Return on Investment (%)')\n",
    "plt.title(\"Return on Investment for Property Types (2012 - 2020)\", size=14)\n",
    "plt.savefig(\"bar_plot_ROI_by_property_type.png\")\n",
    "# Dsiplay the plot\n",
    "plt.show()"
   ]
  },
  {
   "cell_type": "markdown",
   "metadata": {
    "editable": true
   },
   "source": [
    "#### Question 2: Is Multi Family a Riskier Investment than Single Family?"
   ]
  },
  {
   "cell_type": "code",
   "execution_count": 13,
   "metadata": {
    "editable": true
   },
   "outputs": [
    {
     "name": "stdout",
     "output_type": "stream",
     "text": [
      "+--------------+-----+---------+--------------+---------------+------+------------+-----------------+-----------------+--------------------+----------+------+\n",
      "|account_number|suite| lot_size|assessed_value|assessment_year|garage|house_number|     mill_class_1|neighborhood_name|         street_name|year_built|zoning|\n",
      "+--------------+-----+---------+--------------+---------------+------+------------+-----------------+-----------------+--------------------+----------+------+\n",
      "|      10885777|   20|   195.19|      327500.0|           2019|     Y|        1075|      RESIDENTIAL|              NaN|ROSENTHAL BOULEVA...|      2018|   RA7|\n",
      "|      10889544|  120|  136.423|      247000.0|           2020|     Y|        3305|      RESIDENTIAL|              NaN|    ORCHARDS LINK SW|      2018|   RA7|\n",
      "|      10876635|  NaN|  301.584|      130000.0|           2018|     N|         320|      RESIDENTIAL|              NaN|        41 STREET SW|         0|   RMD|\n",
      "|      10875961|  NaN|  269.392|      367500.0|           2020|     N|       22337|      RESIDENTIAL|              NaN|       93A AVENUE NW|      2020|   RMD|\n",
      "|      10916315|  NaN|  381.388|      671500.0|           2020|     Y|       10428|      RESIDENTIAL|              NaN|       145 STREET NW|      2019|   RF3|\n",
      "|      10893314|  NaN|  283.144|      126000.0|           2019|     N|        8107|      RESIDENTIAL|              NaN|   ORCHARDS GREEN SW|         0|   RF4|\n",
      "|      10882343|  NaN| 1514.618|     1026500.0|           2019|     N|        9535|       COMMERCIAL|              NaN|       135 AVENUE NW|      1967|   DC2|\n",
      "|      10881169|  NaN|  192.087|       85000.0|           2019|     N|         553|      RESIDENTIAL|              NaN|     PATERSON WAY SW|         0|  HVLD|\n",
      "|      10923413|  NaN|  278.703|       95500.0|           2020|     N|       11925|OTHER RESIDENTIAL|              NaN|        35 AVENUE SW|         0|   RF5|\n",
      "|      10923681|  NaN|  415.904|      349000.0|           2019|     Y|           3|      RESIDENTIAL|              NaN|     EBBERS CLOSE NW|      2019|   RF5|\n",
      "|      10885098|  NaN| 627255.9|       38500.0|           2019|     N|        5910|         FARMLAND|              NaN|        70 STREET SW|         0|   AES|\n",
      "|      10895676|  NaN|  275.173|      113000.0|           2019|     N|         237|      RESIDENTIAL|              NaN|DESROCHERS BOULEV...|         0|   RF5|\n",
      "|      10876850|  NaN|    368.4|      168000.0|           2019|     N|        8141|      RESIDENTIAL|              NaN|      222A STREET NW|         0|   RSL|\n",
      "|      10886561|   73|  211.864|      289500.0|           2019|     N|         330|      RESIDENTIAL|              NaN|      BULYEA ROAD NW|      2018|   CS3|\n",
      "|      10923585|  NaN|  321.442|      123500.0|           2019|     N|       22613|      RESIDENTIAL|              NaN|        80 AVENUE NW|         0|   RF4|\n",
      "|      10884988|  NaN|20251.195|      613500.0|           2020|     Y|        5315|       COMMERCIAL|              NaN|       127 STREET SW|      1958|   AES|\n",
      "|      10906458|  NaN|   312.08|      130000.0|           2019|     N|        2092|      RESIDENTIAL|              NaN|GRAYDON HILL CRES...|         0|  GHLD|\n",
      "|      10924608|  NaN|  407.182|      164000.0|           2019|     N|        1687|      RESIDENTIAL|              NaN|      ENRIGHT WAY NW|         0|   RSL|\n",
      "|      10877197|  NaN|  316.077|      450000.0|           2019|     Y|        3777|      RESIDENTIAL|              NaN|      CHERRY LOOP SW|      2019|   RMD|\n",
      "|      10923082|  NaN|  246.305|      385500.0|           2020|     N|        4625|      RESIDENTIAL|              NaN|       ALWOOD WAY SW|      2019|   RMD|\n",
      "+--------------+-----+---------+--------------+---------------+------+------------+-----------------+-----------------+--------------------+----------+------+\n",
      "only showing top 20 rows\n",
      "\n"
     ]
    }
   ],
   "source": [
    "# Performance of Multi Family & Single Family over years\n",
    "spark.sql(\"SELECT * from houses_table\").show()"
   ]
  },
  {
   "cell_type": "code",
   "execution_count": 14,
   "metadata": {
    "editable": true
   },
   "outputs": [],
   "source": [
    "performance_df = spark.sql(\"SELECT AVG(assessed_value) AS avg_value, assessment_year, mill_class_1 from houses_table WHERE mill_class_1 = 'RESIDENTIAL' OR mill_class_1 = 'OTHER RESIDENTIAL' GROUP BY assessment_year, mill_class_1 \")"
   ]
  },
  {
   "cell_type": "code",
   "execution_count": 15,
   "metadata": {
    "editable": true
   },
   "outputs": [],
   "source": [
    "performance_df.createOrReplaceTempView(\"performance_table\")\n",
    "final_performance_df = spark.sql(\"SELECT avg_value, assessment_year, CASE WHEN mill_class_1 = 'OTHER RESIDENTIAL' THEN 'Multi family' ELSE 'Single family' END AS property_type FROM performance_table\")\n",
    "final_performance_df.createOrReplaceTempView(\"final_performance_table\")\n",
    "multi_family_performance = spark.sql(\"SELECT * FROM final_performance_table WHERE property_type='Multi family'\")\n",
    "single_family_performance = spark.sql(\"SELECT * FROM final_performance_table WHERE property_type='Single family'\")"
   ]
  },
  {
   "cell_type": "code",
   "execution_count": 16,
   "metadata": {
    "editable": true
   },
   "outputs": [
    {
     "name": "stdout",
     "output_type": "stream",
     "text": [
      "+------------------+---------------+-------------+\n",
      "|         avg_value|assessment_year|property_type|\n",
      "+------------------+---------------+-------------+\n",
      "| 2592253.510961214|           2012| Multi family|\n",
      "|2734953.5279452056|           2013| Multi family|\n",
      "|3672384.4429845144|           2019| Multi family|\n",
      "|3234404.9512570547|           2015| Multi family|\n",
      "| 3489690.053496011|           2018| Multi family|\n",
      "| 2804439.265938532|           2014| Multi family|\n",
      "| 3500616.787529976|           2016| Multi family|\n",
      "| 3186406.635119462|           2017| Multi family|\n",
      "| 4108857.860419717|           2020| Multi family|\n",
      "+------------------+---------------+-------------+\n",
      "\n"
     ]
    }
   ],
   "source": [
    "multi_family_performance.show()"
   ]
  },
  {
   "cell_type": "code",
   "execution_count": 17,
   "metadata": {
    "editable": true
   },
   "outputs": [
    {
     "data": {
      "image/png": "[encoded data removed]",
      "text/plain": [
       "<matplotlib.figure.Figure at 0x7f0ae40e4f98>"
      ]
     },
     "metadata": {
      "needs_background": "light"
     },
     "output_type": "display_data"
    }
   ],
   "source": [
    "# create data\n",
    "multi_family_df = multi_family_performance.toPandas()\n",
    "multi_family_df= multi_family_df.sort_values('assessment_year',ascending=True)\n",
    "\n",
    "single_family_df = single_family_performance.toPandas()\n",
    "single_family_df= single_family_df.sort_values('assessment_year',ascending=True)\n",
    "# plot lines\n",
    "plt.plot(\"assessment_year\", \"avg_value\", data=multi_family_df, label = \"Multi family\")\n",
    "plt.plot(\"assessment_year\", \"avg_value\", data=single_family_df, label = \"Single family\")\n",
    "# Labeling the axes\n",
    "plt.xlabel('Assessment Year')\n",
    "plt.ylabel('Average Value ($)')\n",
    "plt.title(\"Average Value Over Years per Property Type in Edmonton\", size=14)\n",
    "plt.legend()\n",
    "plt.savefig(\"line_chart_by_property_type.png\")\n",
    "plt.show()"
   ]
  },
  {
   "cell_type": "markdown",
   "metadata": {
    "editable": true
   },
   "source": [
    "#### Question 3: How well can we predict a property's value? What aspects correlate well to the value of a property?"
   ]
  },
  {
   "cell_type": "code",
   "execution_count": 18,
   "metadata": {
    "editable": true
   },
   "outputs": [],
   "source": [
    "final_prediction_df = spark.sql(\"SELECT CASE WHEN mill_class_1 = 'OTHER RESIDENTIAL' THEN 'Multi family' ELSE 'Single family' END AS property_type, lot_size, garage, street_name, year_built, zoning, CASE WHEN suite NOT LIKE '%NaN' THEN 'Condominium' ELSE 'Detached House' END AS type, assessed_value FROM houses_table WHERE assessment_year = 2019\")"
   ]
  },
  {
   "cell_type": "code",
   "execution_count": 19,
   "metadata": {
    "editable": true
   },
   "outputs": [
    {
     "name": "stdout",
     "output_type": "stream",
     "text": [
      "+-------------+--------+------+--------------------+----------+------+--------------+--------------+\n",
      "|property_type|lot_size|garage|         street_name|year_built|zoning|          type|assessed_value|\n",
      "+-------------+--------+------+--------------------+----------+------+--------------+--------------+\n",
      "|Single family|  195.19|     Y|ROSENTHAL BOULEVA...|      2018|   RA7|   Condominium|      327500.0|\n",
      "|Single family| 283.144|     N|   ORCHARDS GREEN SW|         0|   RF4|Detached House|      126000.0|\n",
      "|Single family|1514.618|     N|       135 AVENUE NW|      1967|   DC2|Detached House|     1026500.0|\n",
      "|Single family| 192.087|     N|     PATERSON WAY SW|         0|  HVLD|Detached House|       85000.0|\n",
      "|Single family| 415.904|     Y|     EBBERS CLOSE NW|      2019|   RF5|Detached House|      349000.0|\n",
      "|Single family|627255.9|     N|        70 STREET SW|         0|   AES|Detached House|       38500.0|\n",
      "|Single family| 275.173|     N|DESROCHERS BOULEV...|         0|   RF5|Detached House|      113000.0|\n",
      "|Single family|   368.4|     N|      222A STREET NW|         0|   RSL|Detached House|      168000.0|\n",
      "|Single family| 211.864|     N|      BULYEA ROAD NW|      2018|   CS3|   Condominium|      289500.0|\n",
      "|Single family| 321.442|     N|        80 AVENUE NW|         0|   RF4|Detached House|      123500.0|\n",
      "|Single family|  312.08|     N|GRAYDON HILL CRES...|         0|  GHLD|Detached House|      130000.0|\n",
      "|Single family| 407.182|     N|      ENRIGHT WAY NW|         0|   RSL|Detached House|      164000.0|\n",
      "|Single family| 316.077|     Y|      CHERRY LOOP SW|      2019|   RMD|Detached House|      450000.0|\n",
      "|Single family|  54.167|     N| GRIESBACH PARADE NW|      2018|   GVC|   Condominium|      249000.0|\n",
      "|Single family|  296.43|     N|CHARLESWORTH DRIV...|      2019|   RMD|Detached House|      372000.0|\n",
      "|Single family|   2.734|     N|                 NaN|      2015|   DC1|Detached House|       11000.0|\n",
      "|Single family| 193.939|     Y|        97 AVENUE NW|      2017|   RF3|Detached House|      283000.0|\n",
      "|Single family|  54.167|     N| GRIESBACH PARADE NW|      2018|   GVC|   Condominium|      249000.0|\n",
      "|Single family| 245.128|     N|        80 STREET NW|         0|   RMD|Detached House|      100000.0|\n",
      "|Single family| 430.106|     N|      174A AVENUE NW|         0|   RMD|Detached House|      138500.0|\n",
      "+-------------+--------+------+--------------------+----------+------+--------------+--------------+\n",
      "only showing top 20 rows\n",
      "\n"
     ]
    }
   ],
   "source": [
    "final_prediction_df.show()"
   ]
  },
  {
   "cell_type": "code",
   "execution_count": 20,
   "metadata": {
    "editable": true
   },
   "outputs": [
    {
     "name": "stdout",
     "output_type": "stream",
     "text": [
      "root\n",
      " |-- property_type: string (nullable = false)\n",
      " |-- lot_size: float (nullable = true)\n",
      " |-- garage: string (nullable = true)\n",
      " |-- street_name: string (nullable = true)\n",
      " |-- year_built: integer (nullable = true)\n",
      " |-- zoning: string (nullable = true)\n",
      " |-- type: string (nullable = false)\n",
      " |-- assessed_value: float (nullable = true)\n",
      "\n"
     ]
    }
   ],
   "source": [
    "# Data Exploration\n",
    "final_prediction_df.cache()\n",
    "final_prediction_df.printSchema()"
   ]
  },
  {
   "cell_type": "code",
   "execution_count": 21,
   "metadata": {
    "editable": true
   },
   "outputs": [
    {
     "name": "stdout",
     "output_type": "stream",
     "text": [
      "+-------------+--------+------+--------------------+----------+------+--------------+--------------+-----------------+\n",
      "|property_type|lot_size|garage|         street_name|year_built|zoning|          type|assessed_value|propertyTypeIndex|\n",
      "+-------------+--------+------+--------------------+----------+------+--------------+--------------+-----------------+\n",
      "|Single family|  195.19|     Y|ROSENTHAL BOULEVA...|      2018|   RA7|   Condominium|      327500.0|              0.0|\n",
      "|Single family| 283.144|     N|   ORCHARDS GREEN SW|         0|   RF4|Detached House|      126000.0|              0.0|\n",
      "|Single family|1514.618|     N|       135 AVENUE NW|      1967|   DC2|Detached House|     1026500.0|              0.0|\n",
      "|Single family| 192.087|     N|     PATERSON WAY SW|         0|  HVLD|Detached House|       85000.0|              0.0|\n",
      "|Single family| 415.904|     Y|     EBBERS CLOSE NW|      2019|   RF5|Detached House|      349000.0|              0.0|\n",
      "|Single family|627255.9|     N|        70 STREET SW|         0|   AES|Detached House|       38500.0|              0.0|\n",
      "|Single family| 275.173|     N|DESROCHERS BOULEV...|         0|   RF5|Detached House|      113000.0|              0.0|\n",
      "|Single family|   368.4|     N|      222A STREET NW|         0|   RSL|Detached House|      168000.0|              0.0|\n",
      "|Single family| 211.864|     N|      BULYEA ROAD NW|      2018|   CS3|   Condominium|      289500.0|              0.0|\n",
      "|Single family| 321.442|     N|        80 AVENUE NW|         0|   RF4|Detached House|      123500.0|              0.0|\n",
      "|Single family|  312.08|     N|GRAYDON HILL CRES...|         0|  GHLD|Detached House|      130000.0|              0.0|\n",
      "|Single family| 407.182|     N|      ENRIGHT WAY NW|         0|   RSL|Detached House|      164000.0|              0.0|\n",
      "|Single family| 316.077|     Y|      CHERRY LOOP SW|      2019|   RMD|Detached House|      450000.0|              0.0|\n",
      "|Single family|  54.167|     N| GRIESBACH PARADE NW|      2018|   GVC|   Condominium|      249000.0|              0.0|\n",
      "|Single family|  296.43|     N|CHARLESWORTH DRIV...|      2019|   RMD|Detached House|      372000.0|              0.0|\n",
      "|Single family|   2.734|     N|                 NaN|      2015|   DC1|Detached House|       11000.0|              0.0|\n",
      "|Single family| 193.939|     Y|        97 AVENUE NW|      2017|   RF3|Detached House|      283000.0|              0.0|\n",
      "|Single family|  54.167|     N| GRIESBACH PARADE NW|      2018|   GVC|   Condominium|      249000.0|              0.0|\n",
      "|Single family| 245.128|     N|        80 STREET NW|         0|   RMD|Detached House|      100000.0|              0.0|\n",
      "|Single family| 430.106|     N|      174A AVENUE NW|         0|   RMD|Detached House|      138500.0|              0.0|\n",
      "+-------------+--------+------+--------------------+----------+------+--------------+--------------+-----------------+\n",
      "only showing top 20 rows\n",
      "\n"
     ]
    }
   ],
   "source": [
    "# Apply OneHotEncoder to property_type, garage, street_name, zoning, and type columns\n",
    "# Apply StringIndexer to string columns first\n",
    "# import required libraries\n",
    "from pyspark.ml.feature import StringIndexer\n",
    "property_type_indexer = StringIndexer(inputCol=\"property_type\", outputCol=\"propertyTypeIndex\")\n",
    "#Fits a model to the input dataset with optional parameters.\n",
    "final_prediction_df = property_type_indexer.fit(final_prediction_df).transform(final_prediction_df)\n",
    "final_prediction_df.show()"
   ]
  },
  {
   "cell_type": "code",
   "execution_count": 22,
   "metadata": {
    "editable": true
   },
   "outputs": [],
   "source": [
    "# Reference: https://towardsdatascience.com/building-a-linear-regression-with-pyspark-and-mllib-d065c3ba246a\n",
    "# https://medium.com/@nutanbhogendrasharma/feature-transformer-vectorassembler-in-pyspark-ml-feature-part-3-b3c2c3c93ee9"
   ]
  },
  {
   "cell_type": "code",
   "execution_count": 23,
   "metadata": {
    "editable": true
   },
   "outputs": [
    {
     "name": "stdout",
     "output_type": "stream",
     "text": [
      "+-------------+--------+------+--------------------+----------+------+--------------+--------------+-----------------+-----------+\n",
      "|property_type|lot_size|garage|         street_name|year_built|zoning|          type|assessed_value|propertyTypeIndex|garageIndex|\n",
      "+-------------+--------+------+--------------------+----------+------+--------------+--------------+-----------------+-----------+\n",
      "|Single family|  195.19|     Y|ROSENTHAL BOULEVA...|      2018|   RA7|   Condominium|      327500.0|              0.0|        0.0|\n",
      "|Single family| 283.144|     N|   ORCHARDS GREEN SW|         0|   RF4|Detached House|      126000.0|              0.0|        1.0|\n",
      "|Single family|1514.618|     N|       135 AVENUE NW|      1967|   DC2|Detached House|     1026500.0|              0.0|        1.0|\n",
      "|Single family| 192.087|     N|     PATERSON WAY SW|         0|  HVLD|Detached House|       85000.0|              0.0|        1.0|\n",
      "|Single family| 415.904|     Y|     EBBERS CLOSE NW|      2019|   RF5|Detached House|      349000.0|              0.0|        0.0|\n",
      "|Single family|627255.9|     N|        70 STREET SW|         0|   AES|Detached House|       38500.0|              0.0|        1.0|\n",
      "|Single family| 275.173|     N|DESROCHERS BOULEV...|         0|   RF5|Detached House|      113000.0|              0.0|        1.0|\n",
      "|Single family|   368.4|     N|      222A STREET NW|         0|   RSL|Detached House|      168000.0|              0.0|        1.0|\n",
      "|Single family| 211.864|     N|      BULYEA ROAD NW|      2018|   CS3|   Condominium|      289500.0|              0.0|        1.0|\n",
      "|Single family| 321.442|     N|        80 AVENUE NW|         0|   RF4|Detached House|      123500.0|              0.0|        1.0|\n",
      "|Single family|  312.08|     N|GRAYDON HILL CRES...|         0|  GHLD|Detached House|      130000.0|              0.0|        1.0|\n",
      "|Single family| 407.182|     N|      ENRIGHT WAY NW|         0|   RSL|Detached House|      164000.0|              0.0|        1.0|\n",
      "|Single family| 316.077|     Y|      CHERRY LOOP SW|      2019|   RMD|Detached House|      450000.0|              0.0|        0.0|\n",
      "|Single family|  54.167|     N| GRIESBACH PARADE NW|      2018|   GVC|   Condominium|      249000.0|              0.0|        1.0|\n",
      "|Single family|  296.43|     N|CHARLESWORTH DRIV...|      2019|   RMD|Detached House|      372000.0|              0.0|        1.0|\n",
      "|Single family|   2.734|     N|                 NaN|      2015|   DC1|Detached House|       11000.0|              0.0|        1.0|\n",
      "|Single family| 193.939|     Y|        97 AVENUE NW|      2017|   RF3|Detached House|      283000.0|              0.0|        0.0|\n",
      "|Single family|  54.167|     N| GRIESBACH PARADE NW|      2018|   GVC|   Condominium|      249000.0|              0.0|        1.0|\n",
      "|Single family| 245.128|     N|        80 STREET NW|         0|   RMD|Detached House|      100000.0|              0.0|        1.0|\n",
      "|Single family| 430.106|     N|      174A AVENUE NW|         0|   RMD|Detached House|      138500.0|              0.0|        1.0|\n",
      "+-------------+--------+------+--------------------+----------+------+--------------+--------------+-----------------+-----------+\n",
      "only showing top 20 rows\n",
      "\n"
     ]
    }
   ],
   "source": [
    "# Apply OneHotEncoder to property_type, garage, street_name, zoning, and type columns\n",
    "# Apply StringIndexer to string columns first\n",
    "# import required libraries\n",
    "from pyspark.ml.feature import StringIndexer\n",
    "garage_indexer = StringIndexer(inputCol=\"garage\", outputCol=\"garageIndex\")\n",
    "#Fits a model to the input dataset with optional parameters.\n",
    "final_prediction_df = garage_indexer.fit(final_prediction_df).transform(final_prediction_df)\n",
    "final_prediction_df.show()"
   ]
  },
  {
   "cell_type": "code",
   "execution_count": 24,
   "metadata": {
    "editable": true
   },
   "outputs": [
    {
     "name": "stdout",
     "output_type": "stream",
     "text": [
      "+-------------+--------+------+--------------------+----------+------+--------------+--------------+-----------------+-----------+---------------+\n",
      "|property_type|lot_size|garage|         street_name|year_built|zoning|          type|assessed_value|propertyTypeIndex|garageIndex|streetNameIndex|\n",
      "+-------------+--------+------+--------------------+----------+------+--------------+--------------+-----------------+-----------+---------------+\n",
      "|Single family|  195.19|     Y|ROSENTHAL BOULEVA...|      2018|   RA7|   Condominium|      327500.0|              0.0|        0.0|          398.0|\n",
      "|Single family| 283.144|     N|   ORCHARDS GREEN SW|         0|   RF4|Detached House|      126000.0|              0.0|        1.0|          892.0|\n",
      "|Single family|1514.618|     N|       135 AVENUE NW|      1967|   DC2|Detached House|     1026500.0|              0.0|        1.0|          162.0|\n",
      "|Single family| 192.087|     N|     PATERSON WAY SW|         0|  HVLD|Detached House|       85000.0|              0.0|        1.0|         1410.0|\n",
      "|Single family| 415.904|     Y|     EBBERS CLOSE NW|      2019|   RF5|Detached House|      349000.0|              0.0|        0.0|         1282.0|\n",
      "|Single family|627255.9|     N|        70 STREET SW|         0|   AES|Detached House|       38500.0|              0.0|        1.0|          317.0|\n",
      "|Single family| 275.173|     N|DESROCHERS BOULEV...|         0|   RF5|Detached House|      113000.0|              0.0|        1.0|          583.0|\n",
      "|Single family|   368.4|     N|      222A STREET NW|         0|   RSL|Detached House|      168000.0|              0.0|        1.0|          944.0|\n",
      "|Single family| 211.864|     N|      BULYEA ROAD NW|      2018|   CS3|   Condominium|      289500.0|              0.0|        1.0|          604.0|\n",
      "|Single family| 321.442|     N|        80 AVENUE NW|         0|   RF4|Detached House|      123500.0|              0.0|        1.0|            6.0|\n",
      "|Single family|  312.08|     N|GRAYDON HILL CRES...|         0|  GHLD|Detached House|      130000.0|              0.0|        1.0|          700.0|\n",
      "|Single family| 407.182|     N|      ENRIGHT WAY NW|         0|   RSL|Detached House|      164000.0|              0.0|        1.0|         1038.0|\n",
      "|Single family| 316.077|     Y|      CHERRY LOOP SW|      2019|   RMD|Detached House|      450000.0|              0.0|        0.0|          966.0|\n",
      "|Single family|  54.167|     N| GRIESBACH PARADE NW|      2018|   GVC|   Condominium|      249000.0|              0.0|        1.0|          428.0|\n",
      "|Single family|  296.43|     N|CHARLESWORTH DRIV...|      2019|   RMD|Detached House|      372000.0|              0.0|        1.0|          784.0|\n",
      "|Single family|   2.734|     N|                 NaN|      2015|   DC1|Detached House|       11000.0|              0.0|        1.0|            0.0|\n",
      "|Single family| 193.939|     Y|        97 AVENUE NW|      2017|   RF3|Detached House|      283000.0|              0.0|        0.0|          299.0|\n",
      "|Single family|  54.167|     N| GRIESBACH PARADE NW|      2018|   GVC|   Condominium|      249000.0|              0.0|        1.0|          428.0|\n",
      "|Single family| 245.128|     N|        80 STREET NW|         0|   RMD|Detached House|      100000.0|              0.0|        1.0|           58.0|\n",
      "|Single family| 430.106|     N|      174A AVENUE NW|         0|   RMD|Detached House|      138500.0|              0.0|        1.0|          747.0|\n",
      "+-------------+--------+------+--------------------+----------+------+--------------+--------------+-----------------+-----------+---------------+\n",
      "only showing top 20 rows\n",
      "\n"
     ]
    }
   ],
   "source": [
    "# Apply OneHotEncoder to property_type, garage, street_name, zoning, and type columns\n",
    "# Apply StringIndexer to string columns first\n",
    "# import required libraries\n",
    "from pyspark.ml.feature import StringIndexer\n",
    "street_name_indexer = StringIndexer(inputCol=\"street_name\", outputCol=\"streetNameIndex\")\n",
    "#Fits a model to the input dataset with optional parameters.\n",
    "final_prediction_df = street_name_indexer.fit(final_prediction_df).transform(final_prediction_df)\n",
    "final_prediction_df.show()"
   ]
  },
  {
   "cell_type": "code",
   "execution_count": 25,
   "metadata": {
    "editable": true
   },
   "outputs": [
    {
     "name": "stdout",
     "output_type": "stream",
     "text": [
      "+-------------+--------+------+--------------------+----------+------+--------------+--------------+-----------------+-----------+---------------+-----------+\n",
      "|property_type|lot_size|garage|         street_name|year_built|zoning|          type|assessed_value|propertyTypeIndex|garageIndex|streetNameIndex|zoningIndex|\n",
      "+-------------+--------+------+--------------------+----------+------+--------------+--------------+-----------------+-----------+---------------+-----------+\n",
      "|Single family|  195.19|     Y|ROSENTHAL BOULEVA...|      2018|   RA7|   Condominium|      327500.0|              0.0|        0.0|          398.0|        1.0|\n",
      "|Single family| 283.144|     N|   ORCHARDS GREEN SW|         0|   RF4|Detached House|      126000.0|              0.0|        1.0|          892.0|        4.0|\n",
      "|Single family|1514.618|     N|       135 AVENUE NW|      1967|   DC2|Detached House|     1026500.0|              0.0|        1.0|          162.0|        6.0|\n",
      "|Single family| 192.087|     N|     PATERSON WAY SW|         0|  HVLD|Detached House|       85000.0|              0.0|        1.0|         1410.0|       36.0|\n",
      "|Single family| 415.904|     Y|     EBBERS CLOSE NW|      2019|   RF5|Detached House|      349000.0|              0.0|        0.0|         1282.0|        3.0|\n",
      "|Single family|627255.9|     N|        70 STREET SW|         0|   AES|Detached House|       38500.0|              0.0|        1.0|          317.0|       49.0|\n",
      "|Single family| 275.173|     N|DESROCHERS BOULEV...|         0|   RF5|Detached House|      113000.0|              0.0|        1.0|          583.0|        3.0|\n",
      "|Single family|   368.4|     N|      222A STREET NW|         0|   RSL|Detached House|      168000.0|              0.0|        1.0|          944.0|        2.0|\n",
      "|Single family| 211.864|     N|      BULYEA ROAD NW|      2018|   CS3|   Condominium|      289500.0|              0.0|        1.0|          604.0|       41.0|\n",
      "|Single family| 321.442|     N|        80 AVENUE NW|         0|   RF4|Detached House|      123500.0|              0.0|        1.0|            6.0|        4.0|\n",
      "|Single family|  312.08|     N|GRAYDON HILL CRES...|         0|  GHLD|Detached House|      130000.0|              0.0|        1.0|          700.0|       47.0|\n",
      "|Single family| 407.182|     N|      ENRIGHT WAY NW|         0|   RSL|Detached House|      164000.0|              0.0|        1.0|         1038.0|        2.0|\n",
      "|Single family| 316.077|     Y|      CHERRY LOOP SW|      2019|   RMD|Detached House|      450000.0|              0.0|        0.0|          966.0|       11.0|\n",
      "|Single family|  54.167|     N| GRIESBACH PARADE NW|      2018|   GVC|   Condominium|      249000.0|              0.0|        1.0|          428.0|       44.0|\n",
      "|Single family|  296.43|     N|CHARLESWORTH DRIV...|      2019|   RMD|Detached House|      372000.0|              0.0|        1.0|          784.0|       11.0|\n",
      "|Single family|   2.734|     N|                 NaN|      2015|   DC1|Detached House|       11000.0|              0.0|        1.0|            0.0|        8.0|\n",
      "|Single family| 193.939|     Y|        97 AVENUE NW|      2017|   RF3|Detached House|      283000.0|              0.0|        0.0|          299.0|        5.0|\n",
      "|Single family|  54.167|     N| GRIESBACH PARADE NW|      2018|   GVC|   Condominium|      249000.0|              0.0|        1.0|          428.0|       44.0|\n",
      "|Single family| 245.128|     N|        80 STREET NW|         0|   RMD|Detached House|      100000.0|              0.0|        1.0|           58.0|       11.0|\n",
      "|Single family| 430.106|     N|      174A AVENUE NW|         0|   RMD|Detached House|      138500.0|              0.0|        1.0|          747.0|       11.0|\n",
      "+-------------+--------+------+--------------------+----------+------+--------------+--------------+-----------------+-----------+---------------+-----------+\n",
      "only showing top 20 rows\n",
      "\n"
     ]
    }
   ],
   "source": [
    "# Apply OneHotEncoder to property_type, garage, street_name, zoning, and type columns\n",
    "# Apply StringIndexer to string columns first\n",
    "# import required libraries\n",
    "from pyspark.ml.feature import StringIndexer\n",
    "zoning_indexer = StringIndexer(inputCol=\"zoning\", outputCol=\"zoningIndex\")\n",
    "#Fits a model to the input dataset with optional parameters.\n",
    "final_prediction_df = zoning_indexer.fit(final_prediction_df).transform(final_prediction_df)\n",
    "final_prediction_df.show()"
   ]
  },
  {
   "cell_type": "code",
   "execution_count": 26,
   "metadata": {
    "editable": true
   },
   "outputs": [
    {
     "name": "stdout",
     "output_type": "stream",
     "text": [
      "+-------------+--------+------+--------------------+----------+------+--------------+--------------+-----------------+-----------+---------------+-----------+---------+\n",
      "|property_type|lot_size|garage|         street_name|year_built|zoning|          type|assessed_value|propertyTypeIndex|garageIndex|streetNameIndex|zoningIndex|typeIndex|\n",
      "+-------------+--------+------+--------------------+----------+------+--------------+--------------+-----------------+-----------+---------------+-----------+---------+\n",
      "|Single family|  195.19|     Y|ROSENTHAL BOULEVA...|      2018|   RA7|   Condominium|      327500.0|              0.0|        0.0|          398.0|        1.0|      1.0|\n",
      "|Single family| 283.144|     N|   ORCHARDS GREEN SW|         0|   RF4|Detached House|      126000.0|              0.0|        1.0|          892.0|        4.0|      0.0|\n",
      "|Single family|1514.618|     N|       135 AVENUE NW|      1967|   DC2|Detached House|     1026500.0|              0.0|        1.0|          162.0|        6.0|      0.0|\n",
      "|Single family| 192.087|     N|     PATERSON WAY SW|         0|  HVLD|Detached House|       85000.0|              0.0|        1.0|         1410.0|       36.0|      0.0|\n",
      "|Single family| 415.904|     Y|     EBBERS CLOSE NW|      2019|   RF5|Detached House|      349000.0|              0.0|        0.0|         1282.0|        3.0|      0.0|\n",
      "|Single family|627255.9|     N|        70 STREET SW|         0|   AES|Detached House|       38500.0|              0.0|        1.0|          317.0|       49.0|      0.0|\n",
      "|Single family| 275.173|     N|DESROCHERS BOULEV...|         0|   RF5|Detached House|      113000.0|              0.0|        1.0|          583.0|        3.0|      0.0|\n",
      "|Single family|   368.4|     N|      222A STREET NW|         0|   RSL|Detached House|      168000.0|              0.0|        1.0|          944.0|        2.0|      0.0|\n",
      "|Single family| 211.864|     N|      BULYEA ROAD NW|      2018|   CS3|   Condominium|      289500.0|              0.0|        1.0|          604.0|       41.0|      1.0|\n",
      "|Single family| 321.442|     N|        80 AVENUE NW|         0|   RF4|Detached House|      123500.0|              0.0|        1.0|            6.0|        4.0|      0.0|\n",
      "|Single family|  312.08|     N|GRAYDON HILL CRES...|         0|  GHLD|Detached House|      130000.0|              0.0|        1.0|          700.0|       47.0|      0.0|\n",
      "|Single family| 407.182|     N|      ENRIGHT WAY NW|         0|   RSL|Detached House|      164000.0|              0.0|        1.0|         1038.0|        2.0|      0.0|\n",
      "|Single family| 316.077|     Y|      CHERRY LOOP SW|      2019|   RMD|Detached House|      450000.0|              0.0|        0.0|          966.0|       11.0|      0.0|\n",
      "|Single family|  54.167|     N| GRIESBACH PARADE NW|      2018|   GVC|   Condominium|      249000.0|              0.0|        1.0|          428.0|       44.0|      1.0|\n",
      "|Single family|  296.43|     N|CHARLESWORTH DRIV...|      2019|   RMD|Detached House|      372000.0|              0.0|        1.0|          784.0|       11.0|      0.0|\n",
      "|Single family|   2.734|     N|                 NaN|      2015|   DC1|Detached House|       11000.0|              0.0|        1.0|            0.0|        8.0|      0.0|\n",
      "|Single family| 193.939|     Y|        97 AVENUE NW|      2017|   RF3|Detached House|      283000.0|              0.0|        0.0|          299.0|        5.0|      0.0|\n",
      "|Single family|  54.167|     N| GRIESBACH PARADE NW|      2018|   GVC|   Condominium|      249000.0|              0.0|        1.0|          428.0|       44.0|      1.0|\n",
      "|Single family| 245.128|     N|        80 STREET NW|         0|   RMD|Detached House|      100000.0|              0.0|        1.0|           58.0|       11.0|      0.0|\n",
      "|Single family| 430.106|     N|      174A AVENUE NW|         0|   RMD|Detached House|      138500.0|              0.0|        1.0|          747.0|       11.0|      0.0|\n",
      "+-------------+--------+------+--------------------+----------+------+--------------+--------------+-----------------+-----------+---------------+-----------+---------+\n",
      "only showing top 20 rows\n",
      "\n"
     ]
    }
   ],
   "source": [
    "# Apply OneHotEncoder to property_type, garage, street_name, zoning, and type columns\n",
    "# Apply StringIndexer to string columns first\n",
    "# import required libraries\n",
    "from pyspark.ml.feature import StringIndexer\n",
    "type_indexer = StringIndexer(inputCol=\"type\", outputCol=\"typeIndex\")\n",
    "#Fits a model to the input dataset with optional parameters.\n",
    "final_prediction_df = type_indexer.fit(final_prediction_df).transform(final_prediction_df)\n",
    "final_prediction_df.show()"
   ]
  },
  {
   "cell_type": "code",
   "execution_count": 27,
   "metadata": {
    "editable": true
   },
   "outputs": [
    {
     "name": "stdout",
     "output_type": "stream",
     "text": [
      "+-------------+--------+------+--------------------+----------+------+--------------+--------------+-----------------+-----------+---------------+-----------+---------+-----------------+\n",
      "|property_type|lot_size|garage|         street_name|year_built|zoning|          type|assessed_value|propertyTypeIndex|garageIndex|streetNameIndex|zoningIndex|typeIndex|property_type_vec|\n",
      "+-------------+--------+------+--------------------+----------+------+--------------+--------------+-----------------+-----------+---------------+-----------+---------+-----------------+\n",
      "|Single family|  195.19|     Y|ROSENTHAL BOULEVA...|      2018|   RA7|   Condominium|      327500.0|              0.0|        0.0|          398.0|        1.0|      1.0|    (1,[0],[1.0])|\n",
      "|Single family| 283.144|     N|   ORCHARDS GREEN SW|         0|   RF4|Detached House|      126000.0|              0.0|        1.0|          892.0|        4.0|      0.0|    (1,[0],[1.0])|\n",
      "|Single family|1514.618|     N|       135 AVENUE NW|      1967|   DC2|Detached House|     1026500.0|              0.0|        1.0|          162.0|        6.0|      0.0|    (1,[0],[1.0])|\n",
      "|Single family| 192.087|     N|     PATERSON WAY SW|         0|  HVLD|Detached House|       85000.0|              0.0|        1.0|         1410.0|       36.0|      0.0|    (1,[0],[1.0])|\n",
      "|Single family| 415.904|     Y|     EBBERS CLOSE NW|      2019|   RF5|Detached House|      349000.0|              0.0|        0.0|         1282.0|        3.0|      0.0|    (1,[0],[1.0])|\n",
      "|Single family|627255.9|     N|        70 STREET SW|         0|   AES|Detached House|       38500.0|              0.0|        1.0|          317.0|       49.0|      0.0|    (1,[0],[1.0])|\n",
      "|Single family| 275.173|     N|DESROCHERS BOULEV...|         0|   RF5|Detached House|      113000.0|              0.0|        1.0|          583.0|        3.0|      0.0|    (1,[0],[1.0])|\n",
      "|Single family|   368.4|     N|      222A STREET NW|         0|   RSL|Detached House|      168000.0|              0.0|        1.0|          944.0|        2.0|      0.0|    (1,[0],[1.0])|\n",
      "|Single family| 211.864|     N|      BULYEA ROAD NW|      2018|   CS3|   Condominium|      289500.0|              0.0|        1.0|          604.0|       41.0|      1.0|    (1,[0],[1.0])|\n",
      "|Single family| 321.442|     N|        80 AVENUE NW|         0|   RF4|Detached House|      123500.0|              0.0|        1.0|            6.0|        4.0|      0.0|    (1,[0],[1.0])|\n",
      "|Single family|  312.08|     N|GRAYDON HILL CRES...|         0|  GHLD|Detached House|      130000.0|              0.0|        1.0|          700.0|       47.0|      0.0|    (1,[0],[1.0])|\n",
      "|Single family| 407.182|     N|      ENRIGHT WAY NW|         0|   RSL|Detached House|      164000.0|              0.0|        1.0|         1038.0|        2.0|      0.0|    (1,[0],[1.0])|\n",
      "|Single family| 316.077|     Y|      CHERRY LOOP SW|      2019|   RMD|Detached House|      450000.0|              0.0|        0.0|          966.0|       11.0|      0.0|    (1,[0],[1.0])|\n",
      "|Single family|  54.167|     N| GRIESBACH PARADE NW|      2018|   GVC|   Condominium|      249000.0|              0.0|        1.0|          428.0|       44.0|      1.0|    (1,[0],[1.0])|\n",
      "|Single family|  296.43|     N|CHARLESWORTH DRIV...|      2019|   RMD|Detached House|      372000.0|              0.0|        1.0|          784.0|       11.0|      0.0|    (1,[0],[1.0])|\n",
      "|Single family|   2.734|     N|                 NaN|      2015|   DC1|Detached House|       11000.0|              0.0|        1.0|            0.0|        8.0|      0.0|    (1,[0],[1.0])|\n",
      "|Single family| 193.939|     Y|        97 AVENUE NW|      2017|   RF3|Detached House|      283000.0|              0.0|        0.0|          299.0|        5.0|      0.0|    (1,[0],[1.0])|\n",
      "|Single family|  54.167|     N| GRIESBACH PARADE NW|      2018|   GVC|   Condominium|      249000.0|              0.0|        1.0|          428.0|       44.0|      1.0|    (1,[0],[1.0])|\n",
      "|Single family| 245.128|     N|        80 STREET NW|         0|   RMD|Detached House|      100000.0|              0.0|        1.0|           58.0|       11.0|      0.0|    (1,[0],[1.0])|\n",
      "|Single family| 430.106|     N|      174A AVENUE NW|         0|   RMD|Detached House|      138500.0|              0.0|        1.0|          747.0|       11.0|      0.0|    (1,[0],[1.0])|\n",
      "+-------------+--------+------+--------------------+----------+------+--------------+--------------+-----------------+-----------+---------------+-----------+---------+-----------------+\n",
      "only showing top 20 rows\n",
      "\n"
     ]
    }
   ],
   "source": [
    "# Now apply OneHotEncoder to string columns\n",
    "from pyspark.ml.feature import OneHotEncoder\n",
    "\n",
    "#onehotencoder to propertyTypeIndex\n",
    "onehotencoder_property_type_vector = OneHotEncoder(inputCol=\"propertyTypeIndex\", outputCol=\"property_type_vec\")\n",
    "final_prediction_df = onehotencoder_property_type_vector.transform(final_prediction_df)\n",
    "final_prediction_df.show()"
   ]
  },
  {
   "cell_type": "code",
   "execution_count": 28,
   "metadata": {
    "editable": true
   },
   "outputs": [
    {
     "name": "stdout",
     "output_type": "stream",
     "text": [
      "+-------------+--------+------+--------------------+----------+------+--------------+--------------+-----------------+-----------+---------------+-----------+---------+-----------------+-------------+\n",
      "|property_type|lot_size|garage|         street_name|year_built|zoning|          type|assessed_value|propertyTypeIndex|garageIndex|streetNameIndex|zoningIndex|typeIndex|property_type_vec|   garage_vec|\n",
      "+-------------+--------+------+--------------------+----------+------+--------------+--------------+-----------------+-----------+---------------+-----------+---------+-----------------+-------------+\n",
      "|Single family|  195.19|     Y|ROSENTHAL BOULEVA...|      2018|   RA7|   Condominium|      327500.0|              0.0|        0.0|          398.0|        1.0|      1.0|    (1,[0],[1.0])|(1,[0],[1.0])|\n",
      "|Single family| 283.144|     N|   ORCHARDS GREEN SW|         0|   RF4|Detached House|      126000.0|              0.0|        1.0|          892.0|        4.0|      0.0|    (1,[0],[1.0])|    (1,[],[])|\n",
      "|Single family|1514.618|     N|       135 AVENUE NW|      1967|   DC2|Detached House|     1026500.0|              0.0|        1.0|          162.0|        6.0|      0.0|    (1,[0],[1.0])|    (1,[],[])|\n",
      "|Single family| 192.087|     N|     PATERSON WAY SW|         0|  HVLD|Detached House|       85000.0|              0.0|        1.0|         1410.0|       36.0|      0.0|    (1,[0],[1.0])|    (1,[],[])|\n",
      "|Single family| 415.904|     Y|     EBBERS CLOSE NW|      2019|   RF5|Detached House|      349000.0|              0.0|        0.0|         1282.0|        3.0|      0.0|    (1,[0],[1.0])|(1,[0],[1.0])|\n",
      "|Single family|627255.9|     N|        70 STREET SW|         0|   AES|Detached House|       38500.0|              0.0|        1.0|          317.0|       49.0|      0.0|    (1,[0],[1.0])|    (1,[],[])|\n",
      "|Single family| 275.173|     N|DESROCHERS BOULEV...|         0|   RF5|Detached House|      113000.0|              0.0|        1.0|          583.0|        3.0|      0.0|    (1,[0],[1.0])|    (1,[],[])|\n",
      "|Single family|   368.4|     N|      222A STREET NW|         0|   RSL|Detached House|      168000.0|              0.0|        1.0|          944.0|        2.0|      0.0|    (1,[0],[1.0])|    (1,[],[])|\n",
      "|Single family| 211.864|     N|      BULYEA ROAD NW|      2018|   CS3|   Condominium|      289500.0|              0.0|        1.0|          604.0|       41.0|      1.0|    (1,[0],[1.0])|    (1,[],[])|\n",
      "|Single family| 321.442|     N|        80 AVENUE NW|         0|   RF4|Detached House|      123500.0|              0.0|        1.0|            6.0|        4.0|      0.0|    (1,[0],[1.0])|    (1,[],[])|\n",
      "|Single family|  312.08|     N|GRAYDON HILL CRES...|         0|  GHLD|Detached House|      130000.0|              0.0|        1.0|          700.0|       47.0|      0.0|    (1,[0],[1.0])|    (1,[],[])|\n",
      "|Single family| 407.182|     N|      ENRIGHT WAY NW|         0|   RSL|Detached House|      164000.0|              0.0|        1.0|         1038.0|        2.0|      0.0|    (1,[0],[1.0])|    (1,[],[])|\n",
      "|Single family| 316.077|     Y|      CHERRY LOOP SW|      2019|   RMD|Detached House|      450000.0|              0.0|        0.0|          966.0|       11.0|      0.0|    (1,[0],[1.0])|(1,[0],[1.0])|\n",
      "|Single family|  54.167|     N| GRIESBACH PARADE NW|      2018|   GVC|   Condominium|      249000.0|              0.0|        1.0|          428.0|       44.0|      1.0|    (1,[0],[1.0])|    (1,[],[])|\n",
      "|Single family|  296.43|     N|CHARLESWORTH DRIV...|      2019|   RMD|Detached House|      372000.0|              0.0|        1.0|          784.0|       11.0|      0.0|    (1,[0],[1.0])|    (1,[],[])|\n",
      "|Single family|   2.734|     N|                 NaN|      2015|   DC1|Detached House|       11000.0|              0.0|        1.0|            0.0|        8.0|      0.0|    (1,[0],[1.0])|    (1,[],[])|\n",
      "|Single family| 193.939|     Y|        97 AVENUE NW|      2017|   RF3|Detached House|      283000.0|              0.0|        0.0|          299.0|        5.0|      0.0|    (1,[0],[1.0])|(1,[0],[1.0])|\n",
      "|Single family|  54.167|     N| GRIESBACH PARADE NW|      2018|   GVC|   Condominium|      249000.0|              0.0|        1.0|          428.0|       44.0|      1.0|    (1,[0],[1.0])|    (1,[],[])|\n",
      "|Single family| 245.128|     N|        80 STREET NW|         0|   RMD|Detached House|      100000.0|              0.0|        1.0|           58.0|       11.0|      0.0|    (1,[0],[1.0])|    (1,[],[])|\n",
      "|Single family| 430.106|     N|      174A AVENUE NW|         0|   RMD|Detached House|      138500.0|              0.0|        1.0|          747.0|       11.0|      0.0|    (1,[0],[1.0])|    (1,[],[])|\n",
      "+-------------+--------+------+--------------------+----------+------+--------------+--------------+-----------------+-----------+---------------+-----------+---------+-----------------+-------------+\n",
      "only showing top 20 rows\n",
      "\n",
      "+-------------+--------+------+--------------------+----------+------+--------------+--------------+-----------------+-----------+---------------+-----------+---------+-----------------+-------------+-------------------+\n",
      "|property_type|lot_size|garage|         street_name|year_built|zoning|          type|assessed_value|propertyTypeIndex|garageIndex|streetNameIndex|zoningIndex|typeIndex|property_type_vec|   garage_vec|    street_name_vec|\n",
      "+-------------+--------+------+--------------------+----------+------+--------------+--------------+-----------------+-----------+---------------+-----------+---------+-----------------+-------------+-------------------+\n",
      "|Single family|  195.19|     Y|ROSENTHAL BOULEVA...|      2018|   RA7|   Condominium|      327500.0|              0.0|        0.0|          398.0|        1.0|      1.0|    (1,[0],[1.0])|(1,[0],[1.0])| (2847,[398],[1.0])|\n",
      "|Single family| 283.144|     N|   ORCHARDS GREEN SW|         0|   RF4|Detached House|      126000.0|              0.0|        1.0|          892.0|        4.0|      0.0|    (1,[0],[1.0])|    (1,[],[])| (2847,[892],[1.0])|\n",
      "|Single family|1514.618|     N|       135 AVENUE NW|      1967|   DC2|Detached House|     1026500.0|              0.0|        1.0|          162.0|        6.0|      0.0|    (1,[0],[1.0])|    (1,[],[])| (2847,[162],[1.0])|\n",
      "|Single family| 192.087|     N|     PATERSON WAY SW|         0|  HVLD|Detached House|       85000.0|              0.0|        1.0|         1410.0|       36.0|      0.0|    (1,[0],[1.0])|    (1,[],[])|(2847,[1410],[1.0])|\n",
      "|Single family| 415.904|     Y|     EBBERS CLOSE NW|      2019|   RF5|Detached House|      349000.0|              0.0|        0.0|         1282.0|        3.0|      0.0|    (1,[0],[1.0])|(1,[0],[1.0])|(2847,[1282],[1.0])|\n",
      "|Single family|627255.9|     N|        70 STREET SW|         0|   AES|Detached House|       38500.0|              0.0|        1.0|          317.0|       49.0|      0.0|    (1,[0],[1.0])|    (1,[],[])| (2847,[317],[1.0])|\n",
      "|Single family| 275.173|     N|DESROCHERS BOULEV...|         0|   RF5|Detached House|      113000.0|              0.0|        1.0|          583.0|        3.0|      0.0|    (1,[0],[1.0])|    (1,[],[])| (2847,[583],[1.0])|\n",
      "|Single family|   368.4|     N|      222A STREET NW|         0|   RSL|Detached House|      168000.0|              0.0|        1.0|          944.0|        2.0|      0.0|    (1,[0],[1.0])|    (1,[],[])| (2847,[944],[1.0])|\n",
      "|Single family| 211.864|     N|      BULYEA ROAD NW|      2018|   CS3|   Condominium|      289500.0|              0.0|        1.0|          604.0|       41.0|      1.0|    (1,[0],[1.0])|    (1,[],[])| (2847,[604],[1.0])|\n",
      "|Single family| 321.442|     N|        80 AVENUE NW|         0|   RF4|Detached House|      123500.0|              0.0|        1.0|            6.0|        4.0|      0.0|    (1,[0],[1.0])|    (1,[],[])|   (2847,[6],[1.0])|\n",
      "|Single family|  312.08|     N|GRAYDON HILL CRES...|         0|  GHLD|Detached House|      130000.0|              0.0|        1.0|          700.0|       47.0|      0.0|    (1,[0],[1.0])|    (1,[],[])| (2847,[700],[1.0])|\n",
      "|Single family| 407.182|     N|      ENRIGHT WAY NW|         0|   RSL|Detached House|      164000.0|              0.0|        1.0|         1038.0|        2.0|      0.0|    (1,[0],[1.0])|    (1,[],[])|(2847,[1038],[1.0])|\n",
      "|Single family| 316.077|     Y|      CHERRY LOOP SW|      2019|   RMD|Detached House|      450000.0|              0.0|        0.0|          966.0|       11.0|      0.0|    (1,[0],[1.0])|(1,[0],[1.0])| (2847,[966],[1.0])|\n",
      "|Single family|  54.167|     N| GRIESBACH PARADE NW|      2018|   GVC|   Condominium|      249000.0|              0.0|        1.0|          428.0|       44.0|      1.0|    (1,[0],[1.0])|    (1,[],[])| (2847,[428],[1.0])|\n",
      "|Single family|  296.43|     N|CHARLESWORTH DRIV...|      2019|   RMD|Detached House|      372000.0|              0.0|        1.0|          784.0|       11.0|      0.0|    (1,[0],[1.0])|    (1,[],[])| (2847,[784],[1.0])|\n",
      "|Single family|   2.734|     N|                 NaN|      2015|   DC1|Detached House|       11000.0|              0.0|        1.0|            0.0|        8.0|      0.0|    (1,[0],[1.0])|    (1,[],[])|   (2847,[0],[1.0])|\n",
      "|Single family| 193.939|     Y|        97 AVENUE NW|      2017|   RF3|Detached House|      283000.0|              0.0|        0.0|          299.0|        5.0|      0.0|    (1,[0],[1.0])|(1,[0],[1.0])| (2847,[299],[1.0])|\n",
      "|Single family|  54.167|     N| GRIESBACH PARADE NW|      2018|   GVC|   Condominium|      249000.0|              0.0|        1.0|          428.0|       44.0|      1.0|    (1,[0],[1.0])|    (1,[],[])| (2847,[428],[1.0])|\n",
      "|Single family| 245.128|     N|        80 STREET NW|         0|   RMD|Detached House|      100000.0|              0.0|        1.0|           58.0|       11.0|      0.0|    (1,[0],[1.0])|    (1,[],[])|  (2847,[58],[1.0])|\n",
      "|Single family| 430.106|     N|      174A AVENUE NW|         0|   RMD|Detached House|      138500.0|              0.0|        1.0|          747.0|       11.0|      0.0|    (1,[0],[1.0])|    (1,[],[])| (2847,[747],[1.0])|\n",
      "+-------------+--------+------+--------------------+----------+------+--------------+--------------+-----------------+-----------+---------------+-----------+---------+-----------------+-------------+-------------------+\n",
      "only showing top 20 rows\n",
      "\n",
      "+-------------+--------+------+--------------------+----------+------+--------------+--------------+-----------------+-----------+---------------+-----------+---------+-----------------+-------------+-------------------+---------------+\n",
      "|property_type|lot_size|garage|         street_name|year_built|zoning|          type|assessed_value|propertyTypeIndex|garageIndex|streetNameIndex|zoningIndex|typeIndex|property_type_vec|   garage_vec|    street_name_vec|     zoning_vec|\n",
      "+-------------+--------+------+--------------------+----------+------+--------------+--------------+-----------------+-----------+---------------+-----------+---------+-----------------+-------------+-------------------+---------------+\n",
      "|Single family|  195.19|     Y|ROSENTHAL BOULEVA...|      2018|   RA7|   Condominium|      327500.0|              0.0|        0.0|          398.0|        1.0|      1.0|    (1,[0],[1.0])|(1,[0],[1.0])| (2847,[398],[1.0])| (99,[1],[1.0])|\n",
      "|Single family| 283.144|     N|   ORCHARDS GREEN SW|         0|   RF4|Detached House|      126000.0|              0.0|        1.0|          892.0|        4.0|      0.0|    (1,[0],[1.0])|    (1,[],[])| (2847,[892],[1.0])| (99,[4],[1.0])|\n",
      "|Single family|1514.618|     N|       135 AVENUE NW|      1967|   DC2|Detached House|     1026500.0|              0.0|        1.0|          162.0|        6.0|      0.0|    (1,[0],[1.0])|    (1,[],[])| (2847,[162],[1.0])| (99,[6],[1.0])|\n",
      "|Single family| 192.087|     N|     PATERSON WAY SW|         0|  HVLD|Detached House|       85000.0|              0.0|        1.0|         1410.0|       36.0|      0.0|    (1,[0],[1.0])|    (1,[],[])|(2847,[1410],[1.0])|(99,[36],[1.0])|\n",
      "|Single family| 415.904|     Y|     EBBERS CLOSE NW|      2019|   RF5|Detached House|      349000.0|              0.0|        0.0|         1282.0|        3.0|      0.0|    (1,[0],[1.0])|(1,[0],[1.0])|(2847,[1282],[1.0])| (99,[3],[1.0])|\n",
      "|Single family|627255.9|     N|        70 STREET SW|         0|   AES|Detached House|       38500.0|              0.0|        1.0|          317.0|       49.0|      0.0|    (1,[0],[1.0])|    (1,[],[])| (2847,[317],[1.0])|(99,[49],[1.0])|\n",
      "|Single family| 275.173|     N|DESROCHERS BOULEV...|         0|   RF5|Detached House|      113000.0|              0.0|        1.0|          583.0|        3.0|      0.0|    (1,[0],[1.0])|    (1,[],[])| (2847,[583],[1.0])| (99,[3],[1.0])|\n",
      "|Single family|   368.4|     N|      222A STREET NW|         0|   RSL|Detached House|      168000.0|              0.0|        1.0|          944.0|        2.0|      0.0|    (1,[0],[1.0])|    (1,[],[])| (2847,[944],[1.0])| (99,[2],[1.0])|\n",
      "|Single family| 211.864|     N|      BULYEA ROAD NW|      2018|   CS3|   Condominium|      289500.0|              0.0|        1.0|          604.0|       41.0|      1.0|    (1,[0],[1.0])|    (1,[],[])| (2847,[604],[1.0])|(99,[41],[1.0])|\n",
      "|Single family| 321.442|     N|        80 AVENUE NW|         0|   RF4|Detached House|      123500.0|              0.0|        1.0|            6.0|        4.0|      0.0|    (1,[0],[1.0])|    (1,[],[])|   (2847,[6],[1.0])| (99,[4],[1.0])|\n",
      "|Single family|  312.08|     N|GRAYDON HILL CRES...|         0|  GHLD|Detached House|      130000.0|              0.0|        1.0|          700.0|       47.0|      0.0|    (1,[0],[1.0])|    (1,[],[])| (2847,[700],[1.0])|(99,[47],[1.0])|\n",
      "|Single family| 407.182|     N|      ENRIGHT WAY NW|         0|   RSL|Detached House|      164000.0|              0.0|        1.0|         1038.0|        2.0|      0.0|    (1,[0],[1.0])|    (1,[],[])|(2847,[1038],[1.0])| (99,[2],[1.0])|\n",
      "|Single family| 316.077|     Y|      CHERRY LOOP SW|      2019|   RMD|Detached House|      450000.0|              0.0|        0.0|          966.0|       11.0|      0.0|    (1,[0],[1.0])|(1,[0],[1.0])| (2847,[966],[1.0])|(99,[11],[1.0])|\n",
      "|Single family|  54.167|     N| GRIESBACH PARADE NW|      2018|   GVC|   Condominium|      249000.0|              0.0|        1.0|          428.0|       44.0|      1.0|    (1,[0],[1.0])|    (1,[],[])| (2847,[428],[1.0])|(99,[44],[1.0])|\n",
      "|Single family|  296.43|     N|CHARLESWORTH DRIV...|      2019|   RMD|Detached House|      372000.0|              0.0|        1.0|          784.0|       11.0|      0.0|    (1,[0],[1.0])|    (1,[],[])| (2847,[784],[1.0])|(99,[11],[1.0])|\n",
      "|Single family|   2.734|     N|                 NaN|      2015|   DC1|Detached House|       11000.0|              0.0|        1.0|            0.0|        8.0|      0.0|    (1,[0],[1.0])|    (1,[],[])|   (2847,[0],[1.0])| (99,[8],[1.0])|\n",
      "|Single family| 193.939|     Y|        97 AVENUE NW|      2017|   RF3|Detached House|      283000.0|              0.0|        0.0|          299.0|        5.0|      0.0|    (1,[0],[1.0])|(1,[0],[1.0])| (2847,[299],[1.0])| (99,[5],[1.0])|\n",
      "|Single family|  54.167|     N| GRIESBACH PARADE NW|      2018|   GVC|   Condominium|      249000.0|              0.0|        1.0|          428.0|       44.0|      1.0|    (1,[0],[1.0])|    (1,[],[])| (2847,[428],[1.0])|(99,[44],[1.0])|\n",
      "|Single family| 245.128|     N|        80 STREET NW|         0|   RMD|Detached House|      100000.0|              0.0|        1.0|           58.0|       11.0|      0.0|    (1,[0],[1.0])|    (1,[],[])|  (2847,[58],[1.0])|(99,[11],[1.0])|\n",
      "|Single family| 430.106|     N|      174A AVENUE NW|         0|   RMD|Detached House|      138500.0|              0.0|        1.0|          747.0|       11.0|      0.0|    (1,[0],[1.0])|    (1,[],[])| (2847,[747],[1.0])|(99,[11],[1.0])|\n",
      "+-------------+--------+------+--------------------+----------+------+--------------+--------------+-----------------+-----------+---------------+-----------+---------+-----------------+-------------+-------------------+---------------+\n",
      "only showing top 20 rows\n",
      "\n"
     ]
    }
   ],
   "source": [
    "# Now apply OneHotEncoder to string columns\n",
    "# garage, street_name, zoning, and type\n",
    "from pyspark.ml.feature import OneHotEncoder\n",
    "\n",
    "#onehotencoder to propertyTypeIndex\n",
    "onehotencoder_garage_vector = OneHotEncoder(inputCol=\"garageIndex\", outputCol=\"garage_vec\")\n",
    "final_prediction_df = onehotencoder_garage_vector.transform(final_prediction_df)\n",
    "final_prediction_df.show()\n",
    "\n",
    "# Now apply OneHotEncoder to string columns\n",
    "from pyspark.ml.feature import OneHotEncoder\n",
    "\n",
    "#onehotencoder to propertyTypeIndex\n",
    "onehotencoder_street_name_vector = OneHotEncoder(inputCol=\"streetNameIndex\", outputCol=\"street_name_vec\")\n",
    "final_prediction_df = onehotencoder_street_name_vector.transform(final_prediction_df)\n",
    "final_prediction_df.show()\n",
    "\n",
    "# Now apply OneHotEncoder to string columns\n",
    "from pyspark.ml.feature import OneHotEncoder\n",
    "\n",
    "#onehotencoder to propertyTypeIndex\n",
    "onehotencoder_zoning_vector = OneHotEncoder(inputCol=\"zoningIndex\", outputCol=\"zoning_vec\")\n",
    "final_prediction_df = onehotencoder_zoning_vector.transform(final_prediction_df)\n",
    "final_prediction_df.show()\n"
   ]
  },
  {
   "cell_type": "code",
   "execution_count": 29,
   "metadata": {
    "editable": true
   },
   "outputs": [
    {
     "data": {
      "text/plain": [
       "['property_type',\n",
       " 'lot_size',\n",
       " 'garage',\n",
       " 'street_name',\n",
       " 'year_built',\n",
       " 'zoning',\n",
       " 'type',\n",
       " 'assessed_value',\n",
       " 'propertyTypeIndex',\n",
       " 'garageIndex',\n",
       " 'streetNameIndex',\n",
       " 'zoningIndex',\n",
       " 'typeIndex',\n",
       " 'property_type_vec',\n",
       " 'garage_vec',\n",
       " 'street_name_vec',\n",
       " 'zoning_vec',\n",
       " 'type_vec']"
      ]
     },
     "execution_count": 29,
     "metadata": {},
     "output_type": "execute_result"
    }
   ],
   "source": [
    "#onehotencoder to propertyTypeIndex\n",
    "onehotencoder_type_vector = OneHotEncoder(inputCol=\"typeIndex\", outputCol=\"type_vec\")\n",
    "final_prediction_df = onehotencoder_type_vector.transform(final_prediction_df)\n",
    "\n",
    "# Feature transformer — VectorAssembler\n",
    "from pyspark.ml.feature import VectorAssembler\n",
    "final_prediction_df.columns"
   ]
  },
  {
   "cell_type": "code",
   "execution_count": 30,
   "metadata": {
    "editable": true
   },
   "outputs": [
    {
     "data": {
      "text/html": [
       "<div>\n",
       "<style scoped>\n",
       "    .dataframe tbody tr th:only-of-type {\n",
       "        vertical-align: middle;\n",
       "    }\n",
       "\n",
       "    .dataframe tbody tr th {\n",
       "        vertical-align: top;\n",
       "    }\n",
       "\n",
       "    .dataframe thead th {\n",
       "        text-align: right;\n",
       "    }\n",
       "</style>\n",
       "<table border=\"1\" class=\"dataframe\">\n",
       "  <thead>\n",
       "    <tr style=\"text-align: right;\">\n",
       "      <th></th>\n",
       "      <th>features</th>\n",
       "    </tr>\n",
       "  </thead>\n",
       "  <tbody>\n",
       "    <tr>\n",
       "      <th>0</th>\n",
       "      <td>(195.190002441, 2018.0, 0.0, 0.0, 398.0, 1.0, ...</td>\n",
       "    </tr>\n",
       "    <tr>\n",
       "      <th>1</th>\n",
       "      <td>(283.144012451, 0.0, 0.0, 1.0, 892.0, 4.0, 0.0...</td>\n",
       "    </tr>\n",
       "    <tr>\n",
       "      <th>2</th>\n",
       "      <td>(1514.61804199, 1967.0, 0.0, 1.0, 162.0, 6.0, ...</td>\n",
       "    </tr>\n",
       "    <tr>\n",
       "      <th>3</th>\n",
       "      <td>(192.087005615, 0.0, 0.0, 1.0, 1410.0, 36.0, 0...</td>\n",
       "    </tr>\n",
       "    <tr>\n",
       "      <th>4</th>\n",
       "      <td>(415.903991699, 2019.0, 0.0, 0.0, 1282.0, 3.0,...</td>\n",
       "    </tr>\n",
       "  </tbody>\n",
       "</table>\n",
       "</div>"
      ],
      "text/plain": [
       "                                            features\n",
       "0  (195.190002441, 2018.0, 0.0, 0.0, 398.0, 1.0, ...\n",
       "1  (283.144012451, 0.0, 0.0, 1.0, 892.0, 4.0, 0.0...\n",
       "2  (1514.61804199, 1967.0, 0.0, 1.0, 162.0, 6.0, ...\n",
       "3  (192.087005615, 0.0, 0.0, 1.0, 1410.0, 36.0, 0...\n",
       "4  (415.903991699, 2019.0, 0.0, 0.0, 1282.0, 3.0,..."
      ]
     },
     "execution_count": 30,
     "metadata": {},
     "output_type": "execute_result"
    }
   ],
   "source": [
    "inputCols = [\n",
    "    'lot_size',\n",
    "    'year_built',\n",
    "    'propertyTypeIndex',\n",
    "    'garageIndex',\n",
    "    'streetNameIndex',\n",
    "    'zoningIndex',\n",
    "    'typeIndex',\n",
    "    'property_type_vec',\n",
    "    'garage_vec',\n",
    "    'street_name_vec',\n",
    "    'zoning_vec',\n",
    "    'type_vec'\n",
    "]\n",
    "outputCol = \"features\"\n",
    "df_va = VectorAssembler(inputCols = inputCols, outputCol = outputCol)\n",
    "final_prediction_df = df_va.setHandleInvalid(\"skip\").transform(final_prediction_df)\n",
    "final_prediction_df.select(['features']).toPandas().head(5)"
   ]
  },
  {
   "cell_type": "code",
   "execution_count": 31,
   "metadata": {
    "editable": true
   },
   "outputs": [
    {
     "name": "stdout",
     "output_type": "stream",
     "text": [
      "+--------------------+--------------+\n",
      "|            features|assessed_value|\n",
      "+--------------------+--------------+\n",
      "|(2956,[0,1,4,5,6,...|      327500.0|\n",
      "|(2956,[0,3,4,5,7,...|      126000.0|\n",
      "|(2956,[0,1,3,4,5,...|     1026500.0|\n",
      "|(2956,[0,3,4,5,7,...|       85000.0|\n",
      "|(2956,[0,1,4,5,7,...|      349000.0|\n",
      "|(2956,[0,3,4,5,7,...|       38500.0|\n",
      "|(2956,[0,3,4,5,7,...|      113000.0|\n",
      "|(2956,[0,3,4,5,7,...|      168000.0|\n",
      "|(2956,[0,1,3,4,5,...|      289500.0|\n",
      "|(2956,[0,3,4,5,7,...|      123500.0|\n",
      "|(2956,[0,3,4,5,7,...|      130000.0|\n",
      "|(2956,[0,3,4,5,7,...|      164000.0|\n",
      "|(2956,[0,1,4,5,7,...|      450000.0|\n",
      "|(2956,[0,1,3,4,5,...|      249000.0|\n",
      "|(2956,[0,1,3,4,5,...|      372000.0|\n",
      "|(2956,[0,1,3,5,7,...|       11000.0|\n",
      "|(2956,[0,1,4,5,7,...|      283000.0|\n",
      "|(2956,[0,1,3,4,5,...|      249000.0|\n",
      "|(2956,[0,3,4,5,7,...|      100000.0|\n",
      "|(2956,[0,3,4,5,7,...|      138500.0|\n",
      "+--------------------+--------------+\n",
      "only showing top 20 rows\n",
      "\n"
     ]
    }
   ],
   "source": [
    "new_df = final_prediction_df.select(['features','assessed_value'])\n",
    "new_df.show()"
   ]
  },
  {
   "cell_type": "code",
   "execution_count": 32,
   "metadata": {
    "editable": true
   },
   "outputs": [],
   "source": [
    "# Split data set into training and set datasets\n",
    "splits = new_df.randomSplit([0.7, 0.3])\n",
    "train_df = splits[0]\n",
    "test_df = splits[1]"
   ]
  },
  {
   "cell_type": "code",
   "execution_count": 33,
   "metadata": {
    "editable": true
   },
   "outputs": [
    {
     "data": {
      "text/plain": [
       "278954"
      ]
     },
     "execution_count": 33,
     "metadata": {},
     "output_type": "execute_result"
    }
   ],
   "source": [
    "train_df.count()"
   ]
  },
  {
   "cell_type": "code",
   "execution_count": 34,
   "metadata": {
    "editable": true
   },
   "outputs": [
    {
     "data": {
      "text/plain": [
       "119895"
      ]
     },
     "execution_count": 34,
     "metadata": {},
     "output_type": "execute_result"
    }
   ],
   "source": [
    "test_df.count()"
   ]
  },
  {
   "cell_type": "code",
   "execution_count": 35,
   "metadata": {
    "editable": true
   },
   "outputs": [
    {
     "name": "stdout",
     "output_type": "stream",
     "text": [
      "+------------------+--------------+--------------------+\n",
      "|        prediction|assessed_value|            features|\n",
      "+------------------+--------------+--------------------+\n",
      "|2057556.6201440683|     4899500.0|(2956,[0,1,2,3,4,...|\n",
      "| 7397936.908538127|      3.8238E7|(2956,[0,1,2,3,4,...|\n",
      "| 2622826.051173875|     2178000.0|(2956,[0,1,2,3,4,...|\n",
      "|  2285336.08739712|     1227000.0|(2956,[0,1,2,3,4,...|\n",
      "| 6523533.039468874|     3569500.0|(2956,[0,1,2,3,4,...|\n",
      "+------------------+--------------+--------------------+\n",
      "only showing top 5 rows\n",
      "\n"
     ]
    }
   ],
   "source": [
    "# Apply Gradient-boosted tree regression algorithm\n",
    "from pyspark.ml.regression import GBTRegressor\n",
    "gbt = GBTRegressor(featuresCol = 'features', labelCol = 'assessed_value', maxIter=10,  maxBins=2848)\n",
    "gbt_model = gbt.fit(train_df)\n",
    "gbt_predictions = gbt_model.transform(test_df)\n",
    "gbt_predictions.select('prediction', 'assessed_value', 'features').show(5)\n"
   ]
  },
  {
   "cell_type": "code",
   "execution_count": 36,
   "metadata": {
    "editable": true
   },
   "outputs": [
    {
     "name": "stdout",
     "output_type": "stream",
     "text": [
      "Root Mean Squared Error (RMSE) on test data = 8.35e+06\n"
     ]
    }
   ],
   "source": [
    "from pyspark.ml.evaluation import RegressionEvaluator\n",
    "gbt_evaluator = RegressionEvaluator(labelCol=\"assessed_value\", predictionCol=\"prediction\", metricName=\"rmse\")\n",
    "rmse = gbt_evaluator.evaluate(gbt_predictions)\n",
    "print(\"Root Mean Squared Error (RMSE) on test data = %g\" % rmse)"
   ]
  },
  {
   "cell_type": "code",
   "execution_count": 37,
   "metadata": {
    "editable": true
   },
   "outputs": [
    {
     "name": "stdout",
     "output_type": "stream",
     "text": [
      "Root Mean Squared Error (RMSE) on test data = 8.35e+06\n"
     ]
    }
   ],
   "source": [
    "print(\"Root Mean Squared Error (RMSE) on test data = %g\" % int(rmse))"
   ]
  },
  {
   "cell_type": "markdown",
   "metadata": {
    "editable": true
   },
   "source": [
    "##### The Root Mean Squared Error of 7,508,308 is unacceptable. Although with almost 400000 data rows, the root mean squared error is still very high. Therefore, we are very close to conclude that the features we picked are not all important factors in determining the price of a home. Let's back it up through calculating the feature importance. "
   ]
  },
  {
   "cell_type": "code",
   "execution_count": 38,
   "metadata": {
    "editable": true
   },
   "outputs": [
    {
     "data": {
      "text/plain": [
       "SparseVector(2956, {0: 0.2507, 1: 0.093, 2: 0.0067, 4: 0.3805, 5: 0.2169, 14: 0.0051, 24: 0.0045, 31: 0.0104, 233: 0.011, 451: 0.0008, 505: 0.0063, 797: 0.0073, 2521: 0.0006, 2862: 0.0023, 2895: 0.0037, 2929: 0.0002})"
      ]
     },
     "execution_count": 38,
     "metadata": {},
     "output_type": "execute_result"
    }
   ],
   "source": [
    " gbt_model.featureImportances"
   ]
  },
  {
   "cell_type": "code",
   "execution_count": null,
   "metadata": {
    "editable": true
   },
   "outputs": [],
   "source": []
  },
  {
   "cell_type": "code",
   "execution_count": null,
   "metadata": {
    "editable": true
   },
   "outputs": [],
   "source": []
  },
  {
   "cell_type": "code",
   "execution_count": null,
   "metadata": {
    "editable": true
   },
   "outputs": [],
   "source": []
  }
 ],
 "metadata": {
  "kernelspec": {
   "display_name": "Python 3",
   "language": "python",
   "name": "python3"
  },
  "language_info": {
   "codemirror_mode": {
    "name": "ipython",
    "version": 3
   },
   "file_extension": ".py",
   "mimetype": "text/x-python",
   "name": "python",
   "nbconvert_exporter": "python",
   "pygments_lexer": "ipython3",
   "version": "3.6.3"
  }
 },
 "nbformat": 4,
 "nbformat_minor": 4
}
