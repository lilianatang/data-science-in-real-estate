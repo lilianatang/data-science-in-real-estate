{
 "cells": [
  {
   "cell_type": "code",
   "execution_count": 1,
   "metadata": {
    "editable": true
   },
   "outputs": [
    {
     "name": "stdout",
     "output_type": "stream",
     "text": [
      "Requirement already satisfied: sodapy in /opt/conda/lib/python3.6/site-packages (2.1.0)\n",
      "Requirement already satisfied: requests>=2.20.0 in /opt/conda/lib/python3.6/site-packages (from sodapy) (2.26.0)\n",
      "Requirement already satisfied: charset-normalizer~=2.0.0; python_version >= \"3\" in /opt/conda/lib/python3.6/site-packages (from requests>=2.20.0->sodapy) (2.0.4)\n",
      "Requirement already satisfied: urllib3<1.27,>=1.21.1 in /opt/conda/lib/python3.6/site-packages (from requests>=2.20.0->sodapy) (1.22)\n",
      "Requirement already satisfied: idna<4,>=2.5; python_version >= \"3\" in /opt/conda/lib/python3.6/site-packages (from requests>=2.20.0->sodapy) (2.6)\n",
      "Requirement already satisfied: certifi>=2017.4.17 in /opt/conda/lib/python3.6/site-packages (from requests>=2.20.0->sodapy) (2019.11.28)\n"
     ]
    }
   ],
   "source": [
    "!pip install sodapy\n",
    "import pandas as pd\n",
    "from sodapy import Socrata\n",
    "import os\n",
    "from pyspark import SparkContext\n",
    "from pyspark.sql import SQLContext\n",
    "import cassandra\n",
    "from cassandra.cluster import Cluster\n",
    "import pandas as pd\n",
    "import csv\n",
    "from pyspark.sql.types import *\n",
    "from pyspark.sql import SparkSession\n",
    "from pyspark.sql.functions import udf, col\n",
    "from pyspark.sql.functions import year, month, dayofmonth, hour, weekofyear, date_format\n",
    "from pyspark.sql import functions as F\n",
    "from pyspark.sql import Window\n",
    "from pyspark import SparkConf"
   ]
  },
  {
   "cell_type": "code",
   "execution_count": 2,
   "metadata": {
    "editable": true
   },
   "outputs": [],
   "source": [
    "def create_spark_session():\n",
    "    spark = SparkSession \\\n",
    "        .builder \\\n",
    "        .config(\"spark.jars.packages\", \"org.apache.hadoop:hadoop-aws:2.7.0\") \\\n",
    "        .getOrCreate()\n",
    "    return spark\n",
    "spark = create_spark_session()"
   ]
  },
  {
   "cell_type": "code",
   "execution_count": null,
   "metadata": {
    "editable": true
   },
   "outputs": [],
   "source": [
    "client = Socrata('data.edmonton.ca',\n",
    "                  '47asXuyWaxWsAxOt3EGvqq40r',\n",
    "                  username='8fhzefz0bvnvu12f223cjk9e7',\n",
    "                  password='245x2cx2xwx08mvusu7aml8f4n94bvdlvm6a31k6miu3c8cpz0',\n",
    "                 timeout=30)\n",
    "batch_size = 3500\n",
    "batchs = 965\n",
    "count = 0\n",
    "for batch in range(batchs):\n",
    "    offset = batch * batch_size\n",
    "    results = client.get(\"qi6a-xuwt\", limit=batch_size, offset=offset)\n",
    "    results_df = pd.DataFrame.from_records(results)\n",
    "    columns = ['account_number', 'suite', 'lot_size', 'assessed_value', 'assessment_year', 'garage', 'house_number', 'mill_class_1', 'neighborhood_name', 'street_name', 'year_built', 'zoning']\n",
    "    df1 = pd.DataFrame(results_df, columns=columns)\n",
    "    \n",
    "    # Convert assessment year and value to numeric value\n",
    "    df1[\"assessment_year\"] = df1[\"assessment_year\"].astype(str).astype(int)\n",
    "    df1[\"assessed_value\"] = df1[\"assessed_value\"].astype(str).astype(float)\n",
    "    df1[\"lot_size\"] = df1[\"lot_size\"].astype(str).astype(float)\n",
    "    # Fill in missing data for house number with 0 & change its data type to integer\n",
    "    df1['house_number'] = df1['house_number'].fillna(0)\n",
    "    df1[\"house_number\"] = df1[\"house_number\"].astype(str).astype(int)\n",
    "    df1['year_built'] = df1['year_built'].fillna(0)\n",
    "    df1[\"year_built\"] = df1[\"year_built\"].astype(str).astype(int)\n",
    "    \n",
    "    # Define data type of each column to be converted to a pyspark dataframe\n",
    "    houseSchema = StructType([\n",
    "        StructField('account_number', StringType(), True),\n",
    "        StructField('suite', StringType(), True),\n",
    "        StructField(\"lot_size\", FloatType(), True),\n",
    "        StructField(\"assessed_value\", FloatType(), True),\n",
    "        StructField(\"assessment_year\", IntegerType(), True),\n",
    "        StructField(\"garage\", StringType(), True),\n",
    "        StructField(\"house_number\", IntegerType(), True),\n",
    "        StructField(\"mill_class_1\", StringType(), True),\n",
    "        StructField(\"neighborhood_name\", StringType(), True),\n",
    "        StructField(\"street_name\", StringType(), True),\n",
    "        StructField(\"year_built\", IntegerType(), True),\n",
    "        StructField(\"zoning\", StringType(), True)\n",
    "    ])\n",
    "    sparkDF_house_value=spark.createDataFrame(df1, schema=houseSchema)    \n",
    "    # Write the dataframe to a parquet file\n",
    "    sparkDF_house_value.write.mode('append').parquet(\"output/houses.parquet\")\n",
    "    count = count + 1\n",
    "    print(count)"
   ]
  },
  {
   "cell_type": "code",
   "execution_count": 3,
   "metadata": {
    "editable": true
   },
   "outputs": [
    {
     "data": {
      "text/plain": [
       "3377500"
      ]
     },
     "execution_count": 3,
     "metadata": {},
     "output_type": "execute_result"
    }
   ],
   "source": [
    "houses = spark.read.parquet(\"output/houses.parquet\")\n",
    "houses.count()"
   ]
  },
  {
   "cell_type": "markdown",
   "metadata": {
    "editable": true
   },
   "source": [
    "## Prepare data:\n",
    "\n",
    "* Gather necessary data to answer your questions\n",
    "    * Handle categorical and missing data\n",
    "    * Provide insight into the methods you chose and why you chose them\n",
    "* Analyze, Model, and Visualize\n",
    "\n",
    "* Provide a clear connection between your business questions and how the data answers them."
   ]
  },
  {
   "cell_type": "code",
   "execution_count": 4,
   "metadata": {
    "editable": true
   },
   "outputs": [],
   "source": [
    "# Necessary imports\n",
    "import numpy as np\n",
    "import pandas as pd\n",
    "import matplotlib.pyplot as plt\n",
    "import seaborn as sb\n",
    "%matplotlib inline"
   ]
  },
  {
   "cell_type": "markdown",
   "metadata": {
    "editable": true
   },
   "source": [
    "#### Question 1: Does residential or commercial real estate have higher Return on Investment (ROI)?"
   ]
  },
  {
   "cell_type": "code",
   "execution_count": 5,
   "metadata": {
    "editable": true
   },
   "outputs": [],
   "source": [
    "houses.createOrReplaceTempView(\"houses_table\")"
   ]
  },
  {
   "cell_type": "code",
   "execution_count": null,
   "metadata": {
    "editable": true
   },
   "outputs": [],
   "source": [
    "# find out how many years the dataset has\n",
    "spark.sql(\"SELECT distinct assessment_year FROM houses_table ORDER BY assessment_year\").show()"
   ]
  },
  {
   "cell_type": "code",
   "execution_count": null,
   "metadata": {
    "editable": true
   },
   "outputs": [],
   "source": [
    "# Other Residential = Multi-family (apartments & townhouses)\n",
    "# Residential with suite = Individual townhouse/ condo/ apartment\n",
    "final_df = spark.sql(\"SELECT 2012 AS year, mill_class_1, AVG(assessed_value) AS average_value FROM houses_table WHERE assessment_year = 2012 GROUP BY mill_class_1 \\\n",
    "        UNION ALL (SELECT 2020 AS year, mill_class_1, AVG(assessed_value) AS average_value FROM houses_table WHERE assessment_year = 2020 GROUP BY mill_class_1)\")"
   ]
  },
  {
   "cell_type": "code",
   "execution_count": null,
   "metadata": {
    "editable": true
   },
   "outputs": [],
   "source": [
    "final_df.createOrReplaceTempView(\"houses_data_table\")"
   ]
  },
  {
   "cell_type": "code",
   "execution_count": null,
   "metadata": {
    "editable": true
   },
   "outputs": [],
   "source": [
    "spark.sql(\"SELECT * from houses_data_table WHERE year = 2012\").show()"
   ]
  },
  {
   "cell_type": "code",
   "execution_count": null,
   "metadata": {
    "editable": true
   },
   "outputs": [],
   "source": [
    "ROI_df = spark.sql(\"SELECT a.mill_class_1, a.average_value AS 2012_value, b.average_value AS 2020_value, (b.average_value - a.average_value)/a.average_value * 100 AS ROI FROM (SELECT mill_class_1, year, average_value from houses_data_table WHERE year = 2012) a \\\n",
    "        JOIN (SELECT mill_class_1, year, average_value from houses_data_table WHERE year = 2020) b ON a.mill_class_1 = b.mill_class_1 \\\n",
    "        WHERE a.mill_class_1 = 'RESIDENTIAL' OR a.mill_class_1 = 'OTHER RESIDENTIAL' ORDER BY (b.average_value - a.average_value)/a.average_value * 100 desc\")"
   ]
  },
  {
   "cell_type": "code",
   "execution_count": null,
   "metadata": {
    "editable": true
   },
   "outputs": [],
   "source": [
    "ROI_df.createOrReplaceTempView(\"ROI_table\")\n",
    "final_ROI_df = spark.sql(\"SELECT ROI, CASE WHEN mill_class_1 = 'OTHER RESIDENTIAL' THEN 'Multi family' ELSE 'Single family' END AS property_type FROM ROI_table\")"
   ]
  },
  {
   "cell_type": "code",
   "execution_count": null,
   "metadata": {
    "editable": true
   },
   "outputs": [],
   "source": [
    "final_ROI_df = final_ROI_df.toPandas()\n",
    "final_ROI_df= final_ROI_df.sort_values('ROI',ascending=False)\n",
    "final_ROI_df.head()"
   ]
  },
  {
   "cell_type": "code",
   "execution_count": null,
   "metadata": {
    "editable": true
   },
   "outputs": [],
   "source": [
    "# Return the Series having unique values\n",
    "df_sorted_desc= final_ROI_df.sort_values('ROI',ascending=False)\n",
    "df_sorted_desc.head()\n",
    "plt.bar(\"property_type\", \"ROI\", data=final_ROI_df)\n",
    "# Labeling the axes\n",
    "plt.xlabel('Property Type')\n",
    "plt.ylabel('Return on Investment (%)')\n",
    "plt.title(\"Return on Investment for Property Types (2012 - 2020)\", size=14)\n",
    "plt.savefig(\"bar_plot_ROI_by_property_type.png\")\n",
    "# Dsiplay the plot\n",
    "plt.show()"
   ]
  },
  {
   "cell_type": "markdown",
   "metadata": {
    "editable": true
   },
   "source": [
    "#### Question 2: Is Multi Family a Riskier Investment than Single Family?"
   ]
  },
  {
   "cell_type": "code",
   "execution_count": null,
   "metadata": {
    "editable": true
   },
   "outputs": [],
   "source": [
    "# Performance of Multi Family & Single Family over years\n",
    "spark.sql(\"SELECT * from houses_table\").show()"
   ]
  },
  {
   "cell_type": "code",
   "execution_count": null,
   "metadata": {
    "editable": true
   },
   "outputs": [],
   "source": [
    "performance_df = spark.sql(\"SELECT AVG(assessed_value) AS avg_value, assessment_year, mill_class_1 from houses_table WHERE mill_class_1 = 'RESIDENTIAL' OR mill_class_1 = 'OTHER RESIDENTIAL' GROUP BY assessment_year, mill_class_1 \")"
   ]
  },
  {
   "cell_type": "code",
   "execution_count": null,
   "metadata": {
    "editable": true
   },
   "outputs": [],
   "source": [
    "performance_df.createOrReplaceTempView(\"performance_table\")\n",
    "final_performance_df = spark.sql(\"SELECT avg_value, assessment_year, CASE WHEN mill_class_1 = 'OTHER RESIDENTIAL' THEN 'Multi family' ELSE 'Single family' END AS property_type FROM performance_table\")\n",
    "final_performance_df.createOrReplaceTempView(\"final_performance_table\")\n",
    "multi_family_performance = spark.sql(\"SELECT * FROM final_performance_table WHERE property_type='Multi family'\")\n",
    "single_family_performance = spark.sql(\"SELECT * FROM final_performance_table WHERE property_type='Single family'\")"
   ]
  },
  {
   "cell_type": "code",
   "execution_count": null,
   "metadata": {
    "editable": true
   },
   "outputs": [],
   "source": [
    "multi_family_performance.show()"
   ]
  },
  {
   "cell_type": "code",
   "execution_count": null,
   "metadata": {
    "editable": true
   },
   "outputs": [],
   "source": [
    "# create data\n",
    "multi_family_df = multi_family_performance.toPandas()\n",
    "multi_family_df= multi_family_df.sort_values('assessment_year',ascending=True)\n",
    "\n",
    "single_family_df = single_family_performance.toPandas()\n",
    "single_family_df= single_family_df.sort_values('assessment_year',ascending=True)\n",
    "# plot lines\n",
    "plt.plot(\"assessment_year\", \"avg_value\", data=multi_family_df, label = \"Multi family\")\n",
    "plt.plot(\"assessment_year\", \"avg_value\", data=single_family_df, label = \"Single family\")\n",
    "# Labeling the axes\n",
    "plt.xlabel('Assessment Year')\n",
    "plt.ylabel('Average Value ($)')\n",
    "plt.title(\"Average Value Over Years per Property Type in Edmonton\", size=14)\n",
    "plt.legend()\n",
    "plt.savefig(\"line_chart_by_property_type.png\")\n",
    "plt.show()"
   ]
  },
  {
   "cell_type": "markdown",
   "metadata": {
    "editable": true
   },
   "source": [
    "#### Question 3: How well can we predict a property's value? What aspects correlate well to the value of a property?"
   ]
  },
  {
   "cell_type": "code",
   "execution_count": null,
   "metadata": {
    "editable": true
   },
   "outputs": [],
   "source": [
    "# suite -> condo/ townhouse; lot_size; garage; street_name; year; mill_class_1 (multi family or single family); year_built, zoning\n",
    "# https://towardsdatascience.com/logistic-regression-using-python-sklearn-numpy-mnist-handwriting-recognition-matplotlib-a6b31e2b166a"
   ]
  },
  {
   "cell_type": "code",
   "execution_count": 6,
   "metadata": {
    "editable": true
   },
   "outputs": [],
   "source": [
    "final_prediction_df = spark.sql(\"SELECT CASE WHEN mill_class_1 = 'OTHER RESIDENTIAL' THEN 'Multi family' ELSE 'Single family' END AS property_type, lot_size, garage, street_name, year_built, zoning, CASE WHEN suite NOT LIKE '%NaN' THEN 'Condominium' ELSE 'Detached House' END AS type, assessed_value FROM houses_table WHERE assessment_year = 2019\")"
   ]
  },
  {
   "cell_type": "code",
   "execution_count": 7,
   "metadata": {
    "editable": true
   },
   "outputs": [
    {
     "name": "stdout",
     "output_type": "stream",
     "text": [
      "+-------------+--------+------+--------------------+----------+------+--------------+--------------+\n",
      "|property_type|lot_size|garage|         street_name|year_built|zoning|          type|assessed_value|\n",
      "+-------------+--------+------+--------------------+----------+------+--------------+--------------+\n",
      "|Single family| 262.395|     Y|EAGLESON CRESCENT NW|      2019|   RMD|Detached House|      350000.0|\n",
      "|Single family| 436.861|     Y|     CRAWFORD WAY SW|      2019|   RSL|Detached House|      508000.0|\n",
      "|Single family| 277.888|     Y|    CARTMELL ROAD SW|      2019|   RF4|Detached House|      360000.0|\n",
      "|Single family| 515.619|     N|     CHIVERS LOOP SW|         0|   RSL|Detached House|      157500.0|\n",
      "| Multi family| 217.562|     N|ADMIRAL GIROUARD ...|         0|  RF5g|Detached House|       92500.0|\n",
      "|Single family|   1.704|     N|                 NaN|      2017|   CB2|Detached House|       14500.0|\n",
      "|Single family| 333.424|     N|        64 STREET NW|         0|   RMD|Detached House|      144500.0|\n",
      "|Single family| 871.386|     Y|     CONROY COURT SW|      2019|   RMD|Detached House|      538000.0|\n",
      "|Single family|  195.19|     Y|ROSENTHAL BOULEVA...|      2018|   RA7|   Condominium|      327500.0|\n",
      "|Single family| 283.144|     N|   ORCHARDS GREEN SW|         0|   RF4|Detached House|      126000.0|\n",
      "|Single family|1514.618|     N|       135 AVENUE NW|      1967|   DC2|Detached House|     1026500.0|\n",
      "|Single family| 192.087|     N|     PATERSON WAY SW|         0|  HVLD|Detached House|       85000.0|\n",
      "|Single family| 415.904|     Y|     EBBERS CLOSE NW|      2019|   RF5|Detached House|      349000.0|\n",
      "|Single family|627255.9|     N|        70 STREET SW|         0|   AES|Detached House|       38500.0|\n",
      "|Single family| 275.173|     N|DESROCHERS BOULEV...|         0|   RF5|Detached House|      113000.0|\n",
      "|Single family|   368.4|     N|      222A STREET NW|         0|   RSL|Detached House|      168000.0|\n",
      "|Single family| 211.864|     N|      BULYEA ROAD NW|      2018|   CS3|   Condominium|      289500.0|\n",
      "|Single family| 321.442|     N|        80 AVENUE NW|         0|   RF4|Detached House|      123500.0|\n",
      "|Single family|  312.08|     N|GRAYDON HILL CRES...|         0|  GHLD|Detached House|      130000.0|\n",
      "|Single family| 407.182|     N|      ENRIGHT WAY NW|         0|   RSL|Detached House|      164000.0|\n",
      "+-------------+--------+------+--------------------+----------+------+--------------+--------------+\n",
      "only showing top 20 rows\n",
      "\n"
     ]
    }
   ],
   "source": [
    "final_prediction_df.show()"
   ]
  },
  {
   "cell_type": "code",
   "execution_count": 8,
   "metadata": {
    "editable": true
   },
   "outputs": [
    {
     "name": "stdout",
     "output_type": "stream",
     "text": [
      "root\n",
      " |-- property_type: string (nullable = false)\n",
      " |-- lot_size: float (nullable = true)\n",
      " |-- garage: string (nullable = true)\n",
      " |-- street_name: string (nullable = true)\n",
      " |-- year_built: integer (nullable = true)\n",
      " |-- zoning: string (nullable = true)\n",
      " |-- type: string (nullable = false)\n",
      " |-- assessed_value: float (nullable = true)\n",
      "\n"
     ]
    }
   ],
   "source": [
    "# Data Exploration\n",
    "final_prediction_df.cache()\n",
    "final_prediction_df.printSchema()"
   ]
  },
  {
   "cell_type": "code",
   "execution_count": 9,
   "metadata": {
    "editable": true
   },
   "outputs": [
    {
     "name": "stdout",
     "output_type": "stream",
     "text": [
      "+-------------+--------+------+--------------------+----------+------+--------------+--------------+-----------------+\n",
      "|property_type|lot_size|garage|         street_name|year_built|zoning|          type|assessed_value|propertyTypeIndex|\n",
      "+-------------+--------+------+--------------------+----------+------+--------------+--------------+-----------------+\n",
      "|Single family| 262.395|     Y|EAGLESON CRESCENT NW|      2019|   RMD|Detached House|      350000.0|              0.0|\n",
      "|Single family| 436.861|     Y|     CRAWFORD WAY SW|      2019|   RSL|Detached House|      508000.0|              0.0|\n",
      "|Single family| 277.888|     Y|    CARTMELL ROAD SW|      2019|   RF4|Detached House|      360000.0|              0.0|\n",
      "|Single family| 515.619|     N|     CHIVERS LOOP SW|         0|   RSL|Detached House|      157500.0|              0.0|\n",
      "| Multi family| 217.562|     N|ADMIRAL GIROUARD ...|         0|  RF5g|Detached House|       92500.0|              1.0|\n",
      "|Single family|   1.704|     N|                 NaN|      2017|   CB2|Detached House|       14500.0|              0.0|\n",
      "|Single family| 333.424|     N|        64 STREET NW|         0|   RMD|Detached House|      144500.0|              0.0|\n",
      "|Single family| 871.386|     Y|     CONROY COURT SW|      2019|   RMD|Detached House|      538000.0|              0.0|\n",
      "|Single family|  195.19|     Y|ROSENTHAL BOULEVA...|      2018|   RA7|   Condominium|      327500.0|              0.0|\n",
      "|Single family| 283.144|     N|   ORCHARDS GREEN SW|         0|   RF4|Detached House|      126000.0|              0.0|\n",
      "|Single family|1514.618|     N|       135 AVENUE NW|      1967|   DC2|Detached House|     1026500.0|              0.0|\n",
      "|Single family| 192.087|     N|     PATERSON WAY SW|         0|  HVLD|Detached House|       85000.0|              0.0|\n",
      "|Single family| 415.904|     Y|     EBBERS CLOSE NW|      2019|   RF5|Detached House|      349000.0|              0.0|\n",
      "|Single family|627255.9|     N|        70 STREET SW|         0|   AES|Detached House|       38500.0|              0.0|\n",
      "|Single family| 275.173|     N|DESROCHERS BOULEV...|         0|   RF5|Detached House|      113000.0|              0.0|\n",
      "|Single family|   368.4|     N|      222A STREET NW|         0|   RSL|Detached House|      168000.0|              0.0|\n",
      "|Single family| 211.864|     N|      BULYEA ROAD NW|      2018|   CS3|   Condominium|      289500.0|              0.0|\n",
      "|Single family| 321.442|     N|        80 AVENUE NW|         0|   RF4|Detached House|      123500.0|              0.0|\n",
      "|Single family|  312.08|     N|GRAYDON HILL CRES...|         0|  GHLD|Detached House|      130000.0|              0.0|\n",
      "|Single family| 407.182|     N|      ENRIGHT WAY NW|         0|   RSL|Detached House|      164000.0|              0.0|\n",
      "+-------------+--------+------+--------------------+----------+------+--------------+--------------+-----------------+\n",
      "only showing top 20 rows\n",
      "\n"
     ]
    }
   ],
   "source": [
    "# Apply OneHotEncoder to property_type, garage, street_name, zoning, and type columns\n",
    "# Apply StringIndexer to string columns first\n",
    "# import required libraries\n",
    "from pyspark.ml.feature import StringIndexer\n",
    "property_type_indexer = StringIndexer(inputCol=\"property_type\", outputCol=\"propertyTypeIndex\")\n",
    "#Fits a model to the input dataset with optional parameters.\n",
    "final_prediction_df = property_type_indexer.fit(final_prediction_df).transform(final_prediction_df)\n",
    "final_prediction_df.show()"
   ]
  },
  {
   "cell_type": "code",
   "execution_count": 10,
   "metadata": {
    "editable": true
   },
   "outputs": [],
   "source": [
    "# Reference: https://towardsdatascience.com/building-a-linear-regression-with-pyspark-and-mllib-d065c3ba246a\n",
    "# https://medium.com/@nutanbhogendrasharma/feature-transformer-vectorassembler-in-pyspark-ml-feature-part-3-b3c2c3c93ee9"
   ]
  },
  {
   "cell_type": "code",
   "execution_count": 11,
   "metadata": {
    "editable": true
   },
   "outputs": [
    {
     "name": "stdout",
     "output_type": "stream",
     "text": [
      "+-------------+--------+------+--------------------+----------+------+--------------+--------------+-----------------+-----------+\n",
      "|property_type|lot_size|garage|         street_name|year_built|zoning|          type|assessed_value|propertyTypeIndex|garageIndex|\n",
      "+-------------+--------+------+--------------------+----------+------+--------------+--------------+-----------------+-----------+\n",
      "|Single family| 262.395|     Y|EAGLESON CRESCENT NW|      2019|   RMD|Detached House|      350000.0|              0.0|        0.0|\n",
      "|Single family| 436.861|     Y|     CRAWFORD WAY SW|      2019|   RSL|Detached House|      508000.0|              0.0|        0.0|\n",
      "|Single family| 277.888|     Y|    CARTMELL ROAD SW|      2019|   RF4|Detached House|      360000.0|              0.0|        0.0|\n",
      "|Single family| 515.619|     N|     CHIVERS LOOP SW|         0|   RSL|Detached House|      157500.0|              0.0|        1.0|\n",
      "| Multi family| 217.562|     N|ADMIRAL GIROUARD ...|         0|  RF5g|Detached House|       92500.0|              1.0|        1.0|\n",
      "|Single family|   1.704|     N|                 NaN|      2017|   CB2|Detached House|       14500.0|              0.0|        1.0|\n",
      "|Single family| 333.424|     N|        64 STREET NW|         0|   RMD|Detached House|      144500.0|              0.0|        1.0|\n",
      "|Single family| 871.386|     Y|     CONROY COURT SW|      2019|   RMD|Detached House|      538000.0|              0.0|        0.0|\n",
      "|Single family|  195.19|     Y|ROSENTHAL BOULEVA...|      2018|   RA7|   Condominium|      327500.0|              0.0|        0.0|\n",
      "|Single family| 283.144|     N|   ORCHARDS GREEN SW|         0|   RF4|Detached House|      126000.0|              0.0|        1.0|\n",
      "|Single family|1514.618|     N|       135 AVENUE NW|      1967|   DC2|Detached House|     1026500.0|              0.0|        1.0|\n",
      "|Single family| 192.087|     N|     PATERSON WAY SW|         0|  HVLD|Detached House|       85000.0|              0.0|        1.0|\n",
      "|Single family| 415.904|     Y|     EBBERS CLOSE NW|      2019|   RF5|Detached House|      349000.0|              0.0|        0.0|\n",
      "|Single family|627255.9|     N|        70 STREET SW|         0|   AES|Detached House|       38500.0|              0.0|        1.0|\n",
      "|Single family| 275.173|     N|DESROCHERS BOULEV...|         0|   RF5|Detached House|      113000.0|              0.0|        1.0|\n",
      "|Single family|   368.4|     N|      222A STREET NW|         0|   RSL|Detached House|      168000.0|              0.0|        1.0|\n",
      "|Single family| 211.864|     N|      BULYEA ROAD NW|      2018|   CS3|   Condominium|      289500.0|              0.0|        1.0|\n",
      "|Single family| 321.442|     N|        80 AVENUE NW|         0|   RF4|Detached House|      123500.0|              0.0|        1.0|\n",
      "|Single family|  312.08|     N|GRAYDON HILL CRES...|         0|  GHLD|Detached House|      130000.0|              0.0|        1.0|\n",
      "|Single family| 407.182|     N|      ENRIGHT WAY NW|         0|   RSL|Detached House|      164000.0|              0.0|        1.0|\n",
      "+-------------+--------+------+--------------------+----------+------+--------------+--------------+-----------------+-----------+\n",
      "only showing top 20 rows\n",
      "\n"
     ]
    }
   ],
   "source": [
    "# Apply OneHotEncoder to property_type, garage, street_name, zoning, and type columns\n",
    "# Apply StringIndexer to string columns first\n",
    "# import required libraries\n",
    "from pyspark.ml.feature import StringIndexer\n",
    "garage_indexer = StringIndexer(inputCol=\"garage\", outputCol=\"garageIndex\")\n",
    "#Fits a model to the input dataset with optional parameters.\n",
    "final_prediction_df = garage_indexer.fit(final_prediction_df).transform(final_prediction_df)\n",
    "final_prediction_df.show()"
   ]
  },
  {
   "cell_type": "code",
   "execution_count": 12,
   "metadata": {
    "editable": true
   },
   "outputs": [
    {
     "name": "stdout",
     "output_type": "stream",
     "text": [
      "+-------------+--------+------+--------------------+----------+------+--------------+--------------+-----------------+-----------+---------------+\n",
      "|property_type|lot_size|garage|         street_name|year_built|zoning|          type|assessed_value|propertyTypeIndex|garageIndex|streetNameIndex|\n",
      "+-------------+--------+------+--------------------+----------+------+--------------+--------------+-----------------+-----------+---------------+\n",
      "|Single family| 262.395|     Y|EAGLESON CRESCENT NW|      2019|   RMD|Detached House|      350000.0|              0.0|        0.0|          599.0|\n",
      "|Single family| 436.861|     Y|     CRAWFORD WAY SW|      2019|   RSL|Detached House|      508000.0|              0.0|        0.0|         1508.0|\n",
      "|Single family| 277.888|     Y|    CARTMELL ROAD SW|      2019|   RF4|Detached House|      360000.0|              0.0|        0.0|         1194.0|\n",
      "|Single family| 515.619|     N|     CHIVERS LOOP SW|         0|   RSL|Detached House|      157500.0|              0.0|        1.0|         1283.0|\n",
      "| Multi family| 217.562|     N|ADMIRAL GIROUARD ...|         0|  RF5g|Detached House|       92500.0|              1.0|        1.0|         1556.0|\n",
      "|Single family|   1.704|     N|                 NaN|      2017|   CB2|Detached House|       14500.0|              0.0|        1.0|            0.0|\n",
      "|Single family| 333.424|     N|        64 STREET NW|         0|   RMD|Detached House|      144500.0|              0.0|        1.0|           99.0|\n",
      "|Single family| 871.386|     Y|     CONROY COURT SW|      2019|   RMD|Detached House|      538000.0|              0.0|        0.0|         2302.0|\n",
      "|Single family|  195.19|     Y|ROSENTHAL BOULEVA...|      2018|   RA7|   Condominium|      327500.0|              0.0|        0.0|          400.0|\n",
      "|Single family| 283.144|     N|   ORCHARDS GREEN SW|         0|   RF4|Detached House|      126000.0|              0.0|        1.0|          892.0|\n",
      "|Single family|1514.618|     N|       135 AVENUE NW|      1967|   DC2|Detached House|     1026500.0|              0.0|        1.0|          163.0|\n",
      "|Single family| 192.087|     N|     PATERSON WAY SW|         0|  HVLD|Detached House|       85000.0|              0.0|        1.0|         1409.0|\n",
      "|Single family| 415.904|     Y|     EBBERS CLOSE NW|      2019|   RF5|Detached House|      349000.0|              0.0|        0.0|         1284.0|\n",
      "|Single family|627255.9|     N|        70 STREET SW|         0|   AES|Detached House|       38500.0|              0.0|        1.0|          317.0|\n",
      "|Single family| 275.173|     N|DESROCHERS BOULEV...|         0|   RF5|Detached House|      113000.0|              0.0|        1.0|          575.0|\n",
      "|Single family|   368.4|     N|      222A STREET NW|         0|   RSL|Detached House|      168000.0|              0.0|        1.0|          942.0|\n",
      "|Single family| 211.864|     N|      BULYEA ROAD NW|      2018|   CS3|   Condominium|      289500.0|              0.0|        1.0|          605.0|\n",
      "|Single family| 321.442|     N|        80 AVENUE NW|         0|   RF4|Detached House|      123500.0|              0.0|        1.0|            6.0|\n",
      "|Single family|  312.08|     N|GRAYDON HILL CRES...|         0|  GHLD|Detached House|      130000.0|              0.0|        1.0|          693.0|\n",
      "|Single family| 407.182|     N|      ENRIGHT WAY NW|         0|   RSL|Detached House|      164000.0|              0.0|        1.0|         1039.0|\n",
      "+-------------+--------+------+--------------------+----------+------+--------------+--------------+-----------------+-----------+---------------+\n",
      "only showing top 20 rows\n",
      "\n"
     ]
    }
   ],
   "source": [
    "# Apply OneHotEncoder to property_type, garage, street_name, zoning, and type columns\n",
    "# Apply StringIndexer to string columns first\n",
    "# import required libraries\n",
    "from pyspark.ml.feature import StringIndexer\n",
    "street_name_indexer = StringIndexer(inputCol=\"street_name\", outputCol=\"streetNameIndex\")\n",
    "#Fits a model to the input dataset with optional parameters.\n",
    "final_prediction_df = street_name_indexer.fit(final_prediction_df).transform(final_prediction_df)\n",
    "final_prediction_df.show()"
   ]
  },
  {
   "cell_type": "code",
   "execution_count": 13,
   "metadata": {
    "editable": true
   },
   "outputs": [
    {
     "name": "stdout",
     "output_type": "stream",
     "text": [
      "+-------------+--------+------+--------------------+----------+------+--------------+--------------+-----------------+-----------+---------------+-----------+\n",
      "|property_type|lot_size|garage|         street_name|year_built|zoning|          type|assessed_value|propertyTypeIndex|garageIndex|streetNameIndex|zoningIndex|\n",
      "+-------------+--------+------+--------------------+----------+------+--------------+--------------+-----------------+-----------+---------------+-----------+\n",
      "|Single family| 262.395|     Y|EAGLESON CRESCENT NW|      2019|   RMD|Detached House|      350000.0|              0.0|        0.0|          599.0|       11.0|\n",
      "|Single family| 436.861|     Y|     CRAWFORD WAY SW|      2019|   RSL|Detached House|      508000.0|              0.0|        0.0|         1508.0|        2.0|\n",
      "|Single family| 277.888|     Y|    CARTMELL ROAD SW|      2019|   RF4|Detached House|      360000.0|              0.0|        0.0|         1194.0|        4.0|\n",
      "|Single family| 515.619|     N|     CHIVERS LOOP SW|         0|   RSL|Detached House|      157500.0|              0.0|        1.0|         1283.0|        2.0|\n",
      "| Multi family| 217.562|     N|ADMIRAL GIROUARD ...|         0|  RF5g|Detached House|       92500.0|              1.0|        1.0|         1556.0|       54.0|\n",
      "|Single family|   1.704|     N|                 NaN|      2017|   CB2|Detached House|       14500.0|              0.0|        1.0|            0.0|       21.0|\n",
      "|Single family| 333.424|     N|        64 STREET NW|         0|   RMD|Detached House|      144500.0|              0.0|        1.0|           99.0|       11.0|\n",
      "|Single family| 871.386|     Y|     CONROY COURT SW|      2019|   RMD|Detached House|      538000.0|              0.0|        0.0|         2302.0|       11.0|\n",
      "|Single family|  195.19|     Y|ROSENTHAL BOULEVA...|      2018|   RA7|   Condominium|      327500.0|              0.0|        0.0|          400.0|        1.0|\n",
      "|Single family| 283.144|     N|   ORCHARDS GREEN SW|         0|   RF4|Detached House|      126000.0|              0.0|        1.0|          892.0|        4.0|\n",
      "|Single family|1514.618|     N|       135 AVENUE NW|      1967|   DC2|Detached House|     1026500.0|              0.0|        1.0|          163.0|        6.0|\n",
      "|Single family| 192.087|     N|     PATERSON WAY SW|         0|  HVLD|Detached House|       85000.0|              0.0|        1.0|         1409.0|       36.0|\n",
      "|Single family| 415.904|     Y|     EBBERS CLOSE NW|      2019|   RF5|Detached House|      349000.0|              0.0|        0.0|         1284.0|        3.0|\n",
      "|Single family|627255.9|     N|        70 STREET SW|         0|   AES|Detached House|       38500.0|              0.0|        1.0|          317.0|       49.0|\n",
      "|Single family| 275.173|     N|DESROCHERS BOULEV...|         0|   RF5|Detached House|      113000.0|              0.0|        1.0|          575.0|        3.0|\n",
      "|Single family|   368.4|     N|      222A STREET NW|         0|   RSL|Detached House|      168000.0|              0.0|        1.0|          942.0|        2.0|\n",
      "|Single family| 211.864|     N|      BULYEA ROAD NW|      2018|   CS3|   Condominium|      289500.0|              0.0|        1.0|          605.0|       41.0|\n",
      "|Single family| 321.442|     N|        80 AVENUE NW|         0|   RF4|Detached House|      123500.0|              0.0|        1.0|            6.0|        4.0|\n",
      "|Single family|  312.08|     N|GRAYDON HILL CRES...|         0|  GHLD|Detached House|      130000.0|              0.0|        1.0|          693.0|       46.0|\n",
      "|Single family| 407.182|     N|      ENRIGHT WAY NW|         0|   RSL|Detached House|      164000.0|              0.0|        1.0|         1039.0|        2.0|\n",
      "+-------------+--------+------+--------------------+----------+------+--------------+--------------+-----------------+-----------+---------------+-----------+\n",
      "only showing top 20 rows\n",
      "\n"
     ]
    }
   ],
   "source": [
    "# Apply OneHotEncoder to property_type, garage, street_name, zoning, and type columns\n",
    "# Apply StringIndexer to string columns first\n",
    "# import required libraries\n",
    "from pyspark.ml.feature import StringIndexer\n",
    "zoning_indexer = StringIndexer(inputCol=\"zoning\", outputCol=\"zoningIndex\")\n",
    "#Fits a model to the input dataset with optional parameters.\n",
    "final_prediction_df = zoning_indexer.fit(final_prediction_df).transform(final_prediction_df)\n",
    "final_prediction_df.show()"
   ]
  },
  {
   "cell_type": "code",
   "execution_count": 14,
   "metadata": {
    "editable": true
   },
   "outputs": [
    {
     "name": "stdout",
     "output_type": "stream",
     "text": [
      "+-------------+--------+------+--------------------+----------+------+--------------+--------------+-----------------+-----------+---------------+-----------+---------+\n",
      "|property_type|lot_size|garage|         street_name|year_built|zoning|          type|assessed_value|propertyTypeIndex|garageIndex|streetNameIndex|zoningIndex|typeIndex|\n",
      "+-------------+--------+------+--------------------+----------+------+--------------+--------------+-----------------+-----------+---------------+-----------+---------+\n",
      "|Single family| 262.395|     Y|EAGLESON CRESCENT NW|      2019|   RMD|Detached House|      350000.0|              0.0|        0.0|          599.0|       11.0|      0.0|\n",
      "|Single family| 436.861|     Y|     CRAWFORD WAY SW|      2019|   RSL|Detached House|      508000.0|              0.0|        0.0|         1508.0|        2.0|      0.0|\n",
      "|Single family| 277.888|     Y|    CARTMELL ROAD SW|      2019|   RF4|Detached House|      360000.0|              0.0|        0.0|         1194.0|        4.0|      0.0|\n",
      "|Single family| 515.619|     N|     CHIVERS LOOP SW|         0|   RSL|Detached House|      157500.0|              0.0|        1.0|         1283.0|        2.0|      0.0|\n",
      "| Multi family| 217.562|     N|ADMIRAL GIROUARD ...|         0|  RF5g|Detached House|       92500.0|              1.0|        1.0|         1556.0|       54.0|      0.0|\n",
      "|Single family|   1.704|     N|                 NaN|      2017|   CB2|Detached House|       14500.0|              0.0|        1.0|            0.0|       21.0|      0.0|\n",
      "|Single family| 333.424|     N|        64 STREET NW|         0|   RMD|Detached House|      144500.0|              0.0|        1.0|           99.0|       11.0|      0.0|\n",
      "|Single family| 871.386|     Y|     CONROY COURT SW|      2019|   RMD|Detached House|      538000.0|              0.0|        0.0|         2302.0|       11.0|      0.0|\n",
      "|Single family|  195.19|     Y|ROSENTHAL BOULEVA...|      2018|   RA7|   Condominium|      327500.0|              0.0|        0.0|          400.0|        1.0|      1.0|\n",
      "|Single family| 283.144|     N|   ORCHARDS GREEN SW|         0|   RF4|Detached House|      126000.0|              0.0|        1.0|          892.0|        4.0|      0.0|\n",
      "|Single family|1514.618|     N|       135 AVENUE NW|      1967|   DC2|Detached House|     1026500.0|              0.0|        1.0|          163.0|        6.0|      0.0|\n",
      "|Single family| 192.087|     N|     PATERSON WAY SW|         0|  HVLD|Detached House|       85000.0|              0.0|        1.0|         1409.0|       36.0|      0.0|\n",
      "|Single family| 415.904|     Y|     EBBERS CLOSE NW|      2019|   RF5|Detached House|      349000.0|              0.0|        0.0|         1284.0|        3.0|      0.0|\n",
      "|Single family|627255.9|     N|        70 STREET SW|         0|   AES|Detached House|       38500.0|              0.0|        1.0|          317.0|       49.0|      0.0|\n",
      "|Single family| 275.173|     N|DESROCHERS BOULEV...|         0|   RF5|Detached House|      113000.0|              0.0|        1.0|          575.0|        3.0|      0.0|\n",
      "|Single family|   368.4|     N|      222A STREET NW|         0|   RSL|Detached House|      168000.0|              0.0|        1.0|          942.0|        2.0|      0.0|\n",
      "|Single family| 211.864|     N|      BULYEA ROAD NW|      2018|   CS3|   Condominium|      289500.0|              0.0|        1.0|          605.0|       41.0|      1.0|\n",
      "|Single family| 321.442|     N|        80 AVENUE NW|         0|   RF4|Detached House|      123500.0|              0.0|        1.0|            6.0|        4.0|      0.0|\n",
      "|Single family|  312.08|     N|GRAYDON HILL CRES...|         0|  GHLD|Detached House|      130000.0|              0.0|        1.0|          693.0|       46.0|      0.0|\n",
      "|Single family| 407.182|     N|      ENRIGHT WAY NW|         0|   RSL|Detached House|      164000.0|              0.0|        1.0|         1039.0|        2.0|      0.0|\n",
      "+-------------+--------+------+--------------------+----------+------+--------------+--------------+-----------------+-----------+---------------+-----------+---------+\n",
      "only showing top 20 rows\n",
      "\n"
     ]
    }
   ],
   "source": [
    "# Apply OneHotEncoder to property_type, garage, street_name, zoning, and type columns\n",
    "# Apply StringIndexer to string columns first\n",
    "# import required libraries\n",
    "from pyspark.ml.feature import StringIndexer\n",
    "type_indexer = StringIndexer(inputCol=\"type\", outputCol=\"typeIndex\")\n",
    "#Fits a model to the input dataset with optional parameters.\n",
    "final_prediction_df = type_indexer.fit(final_prediction_df).transform(final_prediction_df)\n",
    "final_prediction_df.show()"
   ]
  },
  {
   "cell_type": "code",
   "execution_count": 15,
   "metadata": {
    "editable": true
   },
   "outputs": [
    {
     "name": "stdout",
     "output_type": "stream",
     "text": [
      "+-------------+--------+------+--------------------+----------+------+--------------+--------------+-----------------+-----------+---------------+-----------+---------+-----------------+\n",
      "|property_type|lot_size|garage|         street_name|year_built|zoning|          type|assessed_value|propertyTypeIndex|garageIndex|streetNameIndex|zoningIndex|typeIndex|property_type_vec|\n",
      "+-------------+--------+------+--------------------+----------+------+--------------+--------------+-----------------+-----------+---------------+-----------+---------+-----------------+\n",
      "|Single family| 262.395|     Y|EAGLESON CRESCENT NW|      2019|   RMD|Detached House|      350000.0|              0.0|        0.0|          599.0|       11.0|      0.0|    (1,[0],[1.0])|\n",
      "|Single family| 436.861|     Y|     CRAWFORD WAY SW|      2019|   RSL|Detached House|      508000.0|              0.0|        0.0|         1508.0|        2.0|      0.0|    (1,[0],[1.0])|\n",
      "|Single family| 277.888|     Y|    CARTMELL ROAD SW|      2019|   RF4|Detached House|      360000.0|              0.0|        0.0|         1194.0|        4.0|      0.0|    (1,[0],[1.0])|\n",
      "|Single family| 515.619|     N|     CHIVERS LOOP SW|         0|   RSL|Detached House|      157500.0|              0.0|        1.0|         1283.0|        2.0|      0.0|    (1,[0],[1.0])|\n",
      "| Multi family| 217.562|     N|ADMIRAL GIROUARD ...|         0|  RF5g|Detached House|       92500.0|              1.0|        1.0|         1556.0|       54.0|      0.0|        (1,[],[])|\n",
      "|Single family|   1.704|     N|                 NaN|      2017|   CB2|Detached House|       14500.0|              0.0|        1.0|            0.0|       21.0|      0.0|    (1,[0],[1.0])|\n",
      "|Single family| 333.424|     N|        64 STREET NW|         0|   RMD|Detached House|      144500.0|              0.0|        1.0|           99.0|       11.0|      0.0|    (1,[0],[1.0])|\n",
      "|Single family| 871.386|     Y|     CONROY COURT SW|      2019|   RMD|Detached House|      538000.0|              0.0|        0.0|         2302.0|       11.0|      0.0|    (1,[0],[1.0])|\n",
      "|Single family|  195.19|     Y|ROSENTHAL BOULEVA...|      2018|   RA7|   Condominium|      327500.0|              0.0|        0.0|          400.0|        1.0|      1.0|    (1,[0],[1.0])|\n",
      "|Single family| 283.144|     N|   ORCHARDS GREEN SW|         0|   RF4|Detached House|      126000.0|              0.0|        1.0|          892.0|        4.0|      0.0|    (1,[0],[1.0])|\n",
      "|Single family|1514.618|     N|       135 AVENUE NW|      1967|   DC2|Detached House|     1026500.0|              0.0|        1.0|          163.0|        6.0|      0.0|    (1,[0],[1.0])|\n",
      "|Single family| 192.087|     N|     PATERSON WAY SW|         0|  HVLD|Detached House|       85000.0|              0.0|        1.0|         1409.0|       36.0|      0.0|    (1,[0],[1.0])|\n",
      "|Single family| 415.904|     Y|     EBBERS CLOSE NW|      2019|   RF5|Detached House|      349000.0|              0.0|        0.0|         1284.0|        3.0|      0.0|    (1,[0],[1.0])|\n",
      "|Single family|627255.9|     N|        70 STREET SW|         0|   AES|Detached House|       38500.0|              0.0|        1.0|          317.0|       49.0|      0.0|    (1,[0],[1.0])|\n",
      "|Single family| 275.173|     N|DESROCHERS BOULEV...|         0|   RF5|Detached House|      113000.0|              0.0|        1.0|          575.0|        3.0|      0.0|    (1,[0],[1.0])|\n",
      "|Single family|   368.4|     N|      222A STREET NW|         0|   RSL|Detached House|      168000.0|              0.0|        1.0|          942.0|        2.0|      0.0|    (1,[0],[1.0])|\n",
      "|Single family| 211.864|     N|      BULYEA ROAD NW|      2018|   CS3|   Condominium|      289500.0|              0.0|        1.0|          605.0|       41.0|      1.0|    (1,[0],[1.0])|\n",
      "|Single family| 321.442|     N|        80 AVENUE NW|         0|   RF4|Detached House|      123500.0|              0.0|        1.0|            6.0|        4.0|      0.0|    (1,[0],[1.0])|\n",
      "|Single family|  312.08|     N|GRAYDON HILL CRES...|         0|  GHLD|Detached House|      130000.0|              0.0|        1.0|          693.0|       46.0|      0.0|    (1,[0],[1.0])|\n",
      "|Single family| 407.182|     N|      ENRIGHT WAY NW|         0|   RSL|Detached House|      164000.0|              0.0|        1.0|         1039.0|        2.0|      0.0|    (1,[0],[1.0])|\n",
      "+-------------+--------+------+--------------------+----------+------+--------------+--------------+-----------------+-----------+---------------+-----------+---------+-----------------+\n",
      "only showing top 20 rows\n",
      "\n"
     ]
    }
   ],
   "source": [
    "# Now apply OneHotEncoder to string columns\n",
    "from pyspark.ml.feature import OneHotEncoder\n",
    "\n",
    "#onehotencoder to propertyTypeIndex\n",
    "onehotencoder_property_type_vector = OneHotEncoder(inputCol=\"propertyTypeIndex\", outputCol=\"property_type_vec\")\n",
    "final_prediction_df = onehotencoder_property_type_vector.transform(final_prediction_df)\n",
    "final_prediction_df.show()"
   ]
  },
  {
   "cell_type": "code",
   "execution_count": 16,
   "metadata": {
    "editable": true
   },
   "outputs": [
    {
     "name": "stdout",
     "output_type": "stream",
     "text": [
      "+-------------+--------+------+--------------------+----------+------+--------------+--------------+-----------------+-----------+---------------+-----------+---------+-----------------+-------------+\n",
      "|property_type|lot_size|garage|         street_name|year_built|zoning|          type|assessed_value|propertyTypeIndex|garageIndex|streetNameIndex|zoningIndex|typeIndex|property_type_vec|   garage_vec|\n",
      "+-------------+--------+------+--------------------+----------+------+--------------+--------------+-----------------+-----------+---------------+-----------+---------+-----------------+-------------+\n",
      "|Single family| 262.395|     Y|EAGLESON CRESCENT NW|      2019|   RMD|Detached House|      350000.0|              0.0|        0.0|          599.0|       11.0|      0.0|    (1,[0],[1.0])|(1,[0],[1.0])|\n",
      "|Single family| 436.861|     Y|     CRAWFORD WAY SW|      2019|   RSL|Detached House|      508000.0|              0.0|        0.0|         1508.0|        2.0|      0.0|    (1,[0],[1.0])|(1,[0],[1.0])|\n",
      "|Single family| 277.888|     Y|    CARTMELL ROAD SW|      2019|   RF4|Detached House|      360000.0|              0.0|        0.0|         1194.0|        4.0|      0.0|    (1,[0],[1.0])|(1,[0],[1.0])|\n",
      "|Single family| 515.619|     N|     CHIVERS LOOP SW|         0|   RSL|Detached House|      157500.0|              0.0|        1.0|         1283.0|        2.0|      0.0|    (1,[0],[1.0])|    (1,[],[])|\n",
      "| Multi family| 217.562|     N|ADMIRAL GIROUARD ...|         0|  RF5g|Detached House|       92500.0|              1.0|        1.0|         1556.0|       54.0|      0.0|        (1,[],[])|    (1,[],[])|\n",
      "|Single family|   1.704|     N|                 NaN|      2017|   CB2|Detached House|       14500.0|              0.0|        1.0|            0.0|       21.0|      0.0|    (1,[0],[1.0])|    (1,[],[])|\n",
      "|Single family| 333.424|     N|        64 STREET NW|         0|   RMD|Detached House|      144500.0|              0.0|        1.0|           99.0|       11.0|      0.0|    (1,[0],[1.0])|    (1,[],[])|\n",
      "|Single family| 871.386|     Y|     CONROY COURT SW|      2019|   RMD|Detached House|      538000.0|              0.0|        0.0|         2302.0|       11.0|      0.0|    (1,[0],[1.0])|(1,[0],[1.0])|\n",
      "|Single family|  195.19|     Y|ROSENTHAL BOULEVA...|      2018|   RA7|   Condominium|      327500.0|              0.0|        0.0|          400.0|        1.0|      1.0|    (1,[0],[1.0])|(1,[0],[1.0])|\n",
      "|Single family| 283.144|     N|   ORCHARDS GREEN SW|         0|   RF4|Detached House|      126000.0|              0.0|        1.0|          892.0|        4.0|      0.0|    (1,[0],[1.0])|    (1,[],[])|\n",
      "|Single family|1514.618|     N|       135 AVENUE NW|      1967|   DC2|Detached House|     1026500.0|              0.0|        1.0|          163.0|        6.0|      0.0|    (1,[0],[1.0])|    (1,[],[])|\n",
      "|Single family| 192.087|     N|     PATERSON WAY SW|         0|  HVLD|Detached House|       85000.0|              0.0|        1.0|         1409.0|       36.0|      0.0|    (1,[0],[1.0])|    (1,[],[])|\n",
      "|Single family| 415.904|     Y|     EBBERS CLOSE NW|      2019|   RF5|Detached House|      349000.0|              0.0|        0.0|         1284.0|        3.0|      0.0|    (1,[0],[1.0])|(1,[0],[1.0])|\n",
      "|Single family|627255.9|     N|        70 STREET SW|         0|   AES|Detached House|       38500.0|              0.0|        1.0|          317.0|       49.0|      0.0|    (1,[0],[1.0])|    (1,[],[])|\n",
      "|Single family| 275.173|     N|DESROCHERS BOULEV...|         0|   RF5|Detached House|      113000.0|              0.0|        1.0|          575.0|        3.0|      0.0|    (1,[0],[1.0])|    (1,[],[])|\n",
      "|Single family|   368.4|     N|      222A STREET NW|         0|   RSL|Detached House|      168000.0|              0.0|        1.0|          942.0|        2.0|      0.0|    (1,[0],[1.0])|    (1,[],[])|\n",
      "|Single family| 211.864|     N|      BULYEA ROAD NW|      2018|   CS3|   Condominium|      289500.0|              0.0|        1.0|          605.0|       41.0|      1.0|    (1,[0],[1.0])|    (1,[],[])|\n",
      "|Single family| 321.442|     N|        80 AVENUE NW|         0|   RF4|Detached House|      123500.0|              0.0|        1.0|            6.0|        4.0|      0.0|    (1,[0],[1.0])|    (1,[],[])|\n",
      "|Single family|  312.08|     N|GRAYDON HILL CRES...|         0|  GHLD|Detached House|      130000.0|              0.0|        1.0|          693.0|       46.0|      0.0|    (1,[0],[1.0])|    (1,[],[])|\n",
      "|Single family| 407.182|     N|      ENRIGHT WAY NW|         0|   RSL|Detached House|      164000.0|              0.0|        1.0|         1039.0|        2.0|      0.0|    (1,[0],[1.0])|    (1,[],[])|\n",
      "+-------------+--------+------+--------------------+----------+------+--------------+--------------+-----------------+-----------+---------------+-----------+---------+-----------------+-------------+\n",
      "only showing top 20 rows\n",
      "\n",
      "+-------------+--------+------+--------------------+----------+------+--------------+--------------+-----------------+-----------+---------------+-----------+---------+-----------------+-------------+-------------------+\n",
      "|property_type|lot_size|garage|         street_name|year_built|zoning|          type|assessed_value|propertyTypeIndex|garageIndex|streetNameIndex|zoningIndex|typeIndex|property_type_vec|   garage_vec|    street_name_vec|\n",
      "+-------------+--------+------+--------------------+----------+------+--------------+--------------+-----------------+-----------+---------------+-----------+---------+-----------------+-------------+-------------------+\n",
      "|Single family| 262.395|     Y|EAGLESON CRESCENT NW|      2019|   RMD|Detached House|      350000.0|              0.0|        0.0|          599.0|       11.0|      0.0|    (1,[0],[1.0])|(1,[0],[1.0])| (2845,[599],[1.0])|\n",
      "|Single family| 436.861|     Y|     CRAWFORD WAY SW|      2019|   RSL|Detached House|      508000.0|              0.0|        0.0|         1508.0|        2.0|      0.0|    (1,[0],[1.0])|(1,[0],[1.0])|(2845,[1508],[1.0])|\n",
      "|Single family| 277.888|     Y|    CARTMELL ROAD SW|      2019|   RF4|Detached House|      360000.0|              0.0|        0.0|         1194.0|        4.0|      0.0|    (1,[0],[1.0])|(1,[0],[1.0])|(2845,[1194],[1.0])|\n",
      "|Single family| 515.619|     N|     CHIVERS LOOP SW|         0|   RSL|Detached House|      157500.0|              0.0|        1.0|         1283.0|        2.0|      0.0|    (1,[0],[1.0])|    (1,[],[])|(2845,[1283],[1.0])|\n",
      "| Multi family| 217.562|     N|ADMIRAL GIROUARD ...|         0|  RF5g|Detached House|       92500.0|              1.0|        1.0|         1556.0|       54.0|      0.0|        (1,[],[])|    (1,[],[])|(2845,[1556],[1.0])|\n",
      "|Single family|   1.704|     N|                 NaN|      2017|   CB2|Detached House|       14500.0|              0.0|        1.0|            0.0|       21.0|      0.0|    (1,[0],[1.0])|    (1,[],[])|   (2845,[0],[1.0])|\n",
      "|Single family| 333.424|     N|        64 STREET NW|         0|   RMD|Detached House|      144500.0|              0.0|        1.0|           99.0|       11.0|      0.0|    (1,[0],[1.0])|    (1,[],[])|  (2845,[99],[1.0])|\n",
      "|Single family| 871.386|     Y|     CONROY COURT SW|      2019|   RMD|Detached House|      538000.0|              0.0|        0.0|         2302.0|       11.0|      0.0|    (1,[0],[1.0])|(1,[0],[1.0])|(2845,[2302],[1.0])|\n",
      "|Single family|  195.19|     Y|ROSENTHAL BOULEVA...|      2018|   RA7|   Condominium|      327500.0|              0.0|        0.0|          400.0|        1.0|      1.0|    (1,[0],[1.0])|(1,[0],[1.0])| (2845,[400],[1.0])|\n",
      "|Single family| 283.144|     N|   ORCHARDS GREEN SW|         0|   RF4|Detached House|      126000.0|              0.0|        1.0|          892.0|        4.0|      0.0|    (1,[0],[1.0])|    (1,[],[])| (2845,[892],[1.0])|\n",
      "|Single family|1514.618|     N|       135 AVENUE NW|      1967|   DC2|Detached House|     1026500.0|              0.0|        1.0|          163.0|        6.0|      0.0|    (1,[0],[1.0])|    (1,[],[])| (2845,[163],[1.0])|\n",
      "|Single family| 192.087|     N|     PATERSON WAY SW|         0|  HVLD|Detached House|       85000.0|              0.0|        1.0|         1409.0|       36.0|      0.0|    (1,[0],[1.0])|    (1,[],[])|(2845,[1409],[1.0])|\n",
      "|Single family| 415.904|     Y|     EBBERS CLOSE NW|      2019|   RF5|Detached House|      349000.0|              0.0|        0.0|         1284.0|        3.0|      0.0|    (1,[0],[1.0])|(1,[0],[1.0])|(2845,[1284],[1.0])|\n",
      "|Single family|627255.9|     N|        70 STREET SW|         0|   AES|Detached House|       38500.0|              0.0|        1.0|          317.0|       49.0|      0.0|    (1,[0],[1.0])|    (1,[],[])| (2845,[317],[1.0])|\n",
      "|Single family| 275.173|     N|DESROCHERS BOULEV...|         0|   RF5|Detached House|      113000.0|              0.0|        1.0|          575.0|        3.0|      0.0|    (1,[0],[1.0])|    (1,[],[])| (2845,[575],[1.0])|\n",
      "|Single family|   368.4|     N|      222A STREET NW|         0|   RSL|Detached House|      168000.0|              0.0|        1.0|          942.0|        2.0|      0.0|    (1,[0],[1.0])|    (1,[],[])| (2845,[942],[1.0])|\n",
      "|Single family| 211.864|     N|      BULYEA ROAD NW|      2018|   CS3|   Condominium|      289500.0|              0.0|        1.0|          605.0|       41.0|      1.0|    (1,[0],[1.0])|    (1,[],[])| (2845,[605],[1.0])|\n",
      "|Single family| 321.442|     N|        80 AVENUE NW|         0|   RF4|Detached House|      123500.0|              0.0|        1.0|            6.0|        4.0|      0.0|    (1,[0],[1.0])|    (1,[],[])|   (2845,[6],[1.0])|\n",
      "|Single family|  312.08|     N|GRAYDON HILL CRES...|         0|  GHLD|Detached House|      130000.0|              0.0|        1.0|          693.0|       46.0|      0.0|    (1,[0],[1.0])|    (1,[],[])| (2845,[693],[1.0])|\n",
      "|Single family| 407.182|     N|      ENRIGHT WAY NW|         0|   RSL|Detached House|      164000.0|              0.0|        1.0|         1039.0|        2.0|      0.0|    (1,[0],[1.0])|    (1,[],[])|(2845,[1039],[1.0])|\n",
      "+-------------+--------+------+--------------------+----------+------+--------------+--------------+-----------------+-----------+---------------+-----------+---------+-----------------+-------------+-------------------+\n",
      "only showing top 20 rows\n",
      "\n",
      "+-------------+--------+------+--------------------+----------+------+--------------+--------------+-----------------+-----------+---------------+-----------+---------+-----------------+-------------+-------------------+---------------+\n",
      "|property_type|lot_size|garage|         street_name|year_built|zoning|          type|assessed_value|propertyTypeIndex|garageIndex|streetNameIndex|zoningIndex|typeIndex|property_type_vec|   garage_vec|    street_name_vec|     zoning_vec|\n",
      "+-------------+--------+------+--------------------+----------+------+--------------+--------------+-----------------+-----------+---------------+-----------+---------+-----------------+-------------+-------------------+---------------+\n",
      "|Single family| 262.395|     Y|EAGLESON CRESCENT NW|      2019|   RMD|Detached House|      350000.0|              0.0|        0.0|          599.0|       11.0|      0.0|    (1,[0],[1.0])|(1,[0],[1.0])| (2845,[599],[1.0])|(99,[11],[1.0])|\n",
      "|Single family| 436.861|     Y|     CRAWFORD WAY SW|      2019|   RSL|Detached House|      508000.0|              0.0|        0.0|         1508.0|        2.0|      0.0|    (1,[0],[1.0])|(1,[0],[1.0])|(2845,[1508],[1.0])| (99,[2],[1.0])|\n",
      "|Single family| 277.888|     Y|    CARTMELL ROAD SW|      2019|   RF4|Detached House|      360000.0|              0.0|        0.0|         1194.0|        4.0|      0.0|    (1,[0],[1.0])|(1,[0],[1.0])|(2845,[1194],[1.0])| (99,[4],[1.0])|\n",
      "|Single family| 515.619|     N|     CHIVERS LOOP SW|         0|   RSL|Detached House|      157500.0|              0.0|        1.0|         1283.0|        2.0|      0.0|    (1,[0],[1.0])|    (1,[],[])|(2845,[1283],[1.0])| (99,[2],[1.0])|\n",
      "| Multi family| 217.562|     N|ADMIRAL GIROUARD ...|         0|  RF5g|Detached House|       92500.0|              1.0|        1.0|         1556.0|       54.0|      0.0|        (1,[],[])|    (1,[],[])|(2845,[1556],[1.0])|(99,[54],[1.0])|\n",
      "|Single family|   1.704|     N|                 NaN|      2017|   CB2|Detached House|       14500.0|              0.0|        1.0|            0.0|       21.0|      0.0|    (1,[0],[1.0])|    (1,[],[])|   (2845,[0],[1.0])|(99,[21],[1.0])|\n",
      "|Single family| 333.424|     N|        64 STREET NW|         0|   RMD|Detached House|      144500.0|              0.0|        1.0|           99.0|       11.0|      0.0|    (1,[0],[1.0])|    (1,[],[])|  (2845,[99],[1.0])|(99,[11],[1.0])|\n",
      "|Single family| 871.386|     Y|     CONROY COURT SW|      2019|   RMD|Detached House|      538000.0|              0.0|        0.0|         2302.0|       11.0|      0.0|    (1,[0],[1.0])|(1,[0],[1.0])|(2845,[2302],[1.0])|(99,[11],[1.0])|\n",
      "|Single family|  195.19|     Y|ROSENTHAL BOULEVA...|      2018|   RA7|   Condominium|      327500.0|              0.0|        0.0|          400.0|        1.0|      1.0|    (1,[0],[1.0])|(1,[0],[1.0])| (2845,[400],[1.0])| (99,[1],[1.0])|\n",
      "|Single family| 283.144|     N|   ORCHARDS GREEN SW|         0|   RF4|Detached House|      126000.0|              0.0|        1.0|          892.0|        4.0|      0.0|    (1,[0],[1.0])|    (1,[],[])| (2845,[892],[1.0])| (99,[4],[1.0])|\n",
      "|Single family|1514.618|     N|       135 AVENUE NW|      1967|   DC2|Detached House|     1026500.0|              0.0|        1.0|          163.0|        6.0|      0.0|    (1,[0],[1.0])|    (1,[],[])| (2845,[163],[1.0])| (99,[6],[1.0])|\n",
      "|Single family| 192.087|     N|     PATERSON WAY SW|         0|  HVLD|Detached House|       85000.0|              0.0|        1.0|         1409.0|       36.0|      0.0|    (1,[0],[1.0])|    (1,[],[])|(2845,[1409],[1.0])|(99,[36],[1.0])|\n",
      "|Single family| 415.904|     Y|     EBBERS CLOSE NW|      2019|   RF5|Detached House|      349000.0|              0.0|        0.0|         1284.0|        3.0|      0.0|    (1,[0],[1.0])|(1,[0],[1.0])|(2845,[1284],[1.0])| (99,[3],[1.0])|\n",
      "|Single family|627255.9|     N|        70 STREET SW|         0|   AES|Detached House|       38500.0|              0.0|        1.0|          317.0|       49.0|      0.0|    (1,[0],[1.0])|    (1,[],[])| (2845,[317],[1.0])|(99,[49],[1.0])|\n",
      "|Single family| 275.173|     N|DESROCHERS BOULEV...|         0|   RF5|Detached House|      113000.0|              0.0|        1.0|          575.0|        3.0|      0.0|    (1,[0],[1.0])|    (1,[],[])| (2845,[575],[1.0])| (99,[3],[1.0])|\n",
      "|Single family|   368.4|     N|      222A STREET NW|         0|   RSL|Detached House|      168000.0|              0.0|        1.0|          942.0|        2.0|      0.0|    (1,[0],[1.0])|    (1,[],[])| (2845,[942],[1.0])| (99,[2],[1.0])|\n",
      "|Single family| 211.864|     N|      BULYEA ROAD NW|      2018|   CS3|   Condominium|      289500.0|              0.0|        1.0|          605.0|       41.0|      1.0|    (1,[0],[1.0])|    (1,[],[])| (2845,[605],[1.0])|(99,[41],[1.0])|\n",
      "|Single family| 321.442|     N|        80 AVENUE NW|         0|   RF4|Detached House|      123500.0|              0.0|        1.0|            6.0|        4.0|      0.0|    (1,[0],[1.0])|    (1,[],[])|   (2845,[6],[1.0])| (99,[4],[1.0])|\n",
      "|Single family|  312.08|     N|GRAYDON HILL CRES...|         0|  GHLD|Detached House|      130000.0|              0.0|        1.0|          693.0|       46.0|      0.0|    (1,[0],[1.0])|    (1,[],[])| (2845,[693],[1.0])|(99,[46],[1.0])|\n",
      "|Single family| 407.182|     N|      ENRIGHT WAY NW|         0|   RSL|Detached House|      164000.0|              0.0|        1.0|         1039.0|        2.0|      0.0|    (1,[0],[1.0])|    (1,[],[])|(2845,[1039],[1.0])| (99,[2],[1.0])|\n",
      "+-------------+--------+------+--------------------+----------+------+--------------+--------------+-----------------+-----------+---------------+-----------+---------+-----------------+-------------+-------------------+---------------+\n",
      "only showing top 20 rows\n",
      "\n"
     ]
    }
   ],
   "source": [
    "# Now apply OneHotEncoder to string columns\n",
    "# garage, street_name, zoning, and type\n",
    "from pyspark.ml.feature import OneHotEncoder\n",
    "\n",
    "#onehotencoder to propertyTypeIndex\n",
    "onehotencoder_garage_vector = OneHotEncoder(inputCol=\"garageIndex\", outputCol=\"garage_vec\")\n",
    "final_prediction_df = onehotencoder_garage_vector.transform(final_prediction_df)\n",
    "final_prediction_df.show()\n",
    "\n",
    "# Now apply OneHotEncoder to string columns\n",
    "from pyspark.ml.feature import OneHotEncoder\n",
    "\n",
    "#onehotencoder to propertyTypeIndex\n",
    "onehotencoder_street_name_vector = OneHotEncoder(inputCol=\"streetNameIndex\", outputCol=\"street_name_vec\")\n",
    "final_prediction_df = onehotencoder_street_name_vector.transform(final_prediction_df)\n",
    "final_prediction_df.show()\n",
    "\n",
    "# Now apply OneHotEncoder to string columns\n",
    "from pyspark.ml.feature import OneHotEncoder\n",
    "\n",
    "#onehotencoder to propertyTypeIndex\n",
    "onehotencoder_zoning_vector = OneHotEncoder(inputCol=\"zoningIndex\", outputCol=\"zoning_vec\")\n",
    "final_prediction_df = onehotencoder_zoning_vector.transform(final_prediction_df)\n",
    "final_prediction_df.show()\n"
   ]
  },
  {
   "cell_type": "code",
   "execution_count": 17,
   "metadata": {
    "editable": true
   },
   "outputs": [
    {
     "data": {
      "text/plain": [
       "['property_type',\n",
       " 'lot_size',\n",
       " 'garage',\n",
       " 'street_name',\n",
       " 'year_built',\n",
       " 'zoning',\n",
       " 'type',\n",
       " 'assessed_value',\n",
       " 'propertyTypeIndex',\n",
       " 'garageIndex',\n",
       " 'streetNameIndex',\n",
       " 'zoningIndex',\n",
       " 'typeIndex',\n",
       " 'property_type_vec',\n",
       " 'garage_vec',\n",
       " 'street_name_vec',\n",
       " 'zoning_vec',\n",
       " 'type_vec']"
      ]
     },
     "execution_count": 17,
     "metadata": {},
     "output_type": "execute_result"
    }
   ],
   "source": [
    "#onehotencoder to propertyTypeIndex\n",
    "onehotencoder_type_vector = OneHotEncoder(inputCol=\"typeIndex\", outputCol=\"type_vec\")\n",
    "final_prediction_df = onehotencoder_type_vector.transform(final_prediction_df)\n",
    "\n",
    "# Feature transformer — VectorAssembler\n",
    "from pyspark.ml.feature import VectorAssembler\n",
    "final_prediction_df.columns"
   ]
  },
  {
   "cell_type": "code",
   "execution_count": 18,
   "metadata": {
    "editable": true
   },
   "outputs": [
    {
     "data": {
      "text/html": [
       "<div>\n",
       "<style scoped>\n",
       "    .dataframe tbody tr th:only-of-type {\n",
       "        vertical-align: middle;\n",
       "    }\n",
       "\n",
       "    .dataframe tbody tr th {\n",
       "        vertical-align: top;\n",
       "    }\n",
       "\n",
       "    .dataframe thead th {\n",
       "        text-align: right;\n",
       "    }\n",
       "</style>\n",
       "<table border=\"1\" class=\"dataframe\">\n",
       "  <thead>\n",
       "    <tr style=\"text-align: right;\">\n",
       "      <th></th>\n",
       "      <th>features</th>\n",
       "    </tr>\n",
       "  </thead>\n",
       "  <tbody>\n",
       "    <tr>\n",
       "      <th>0</th>\n",
       "      <td>(262.394989014, 2019.0, 0.0, 0.0, 599.0, 11.0,...</td>\n",
       "    </tr>\n",
       "    <tr>\n",
       "      <th>1</th>\n",
       "      <td>(436.860992432, 2019.0, 0.0, 0.0, 1508.0, 2.0,...</td>\n",
       "    </tr>\n",
       "    <tr>\n",
       "      <th>2</th>\n",
       "      <td>(277.888000488, 2019.0, 0.0, 0.0, 1194.0, 4.0,...</td>\n",
       "    </tr>\n",
       "    <tr>\n",
       "      <th>3</th>\n",
       "      <td>(515.619018555, 0.0, 0.0, 1.0, 1283.0, 2.0, 0....</td>\n",
       "    </tr>\n",
       "    <tr>\n",
       "      <th>4</th>\n",
       "      <td>(217.56199646, 0.0, 1.0, 1.0, 1556.0, 54.0, 0....</td>\n",
       "    </tr>\n",
       "  </tbody>\n",
       "</table>\n",
       "</div>"
      ],
      "text/plain": [
       "                                            features\n",
       "0  (262.394989014, 2019.0, 0.0, 0.0, 599.0, 11.0,...\n",
       "1  (436.860992432, 2019.0, 0.0, 0.0, 1508.0, 2.0,...\n",
       "2  (277.888000488, 2019.0, 0.0, 0.0, 1194.0, 4.0,...\n",
       "3  (515.619018555, 0.0, 0.0, 1.0, 1283.0, 2.0, 0....\n",
       "4  (217.56199646, 0.0, 1.0, 1.0, 1556.0, 54.0, 0...."
      ]
     },
     "execution_count": 18,
     "metadata": {},
     "output_type": "execute_result"
    }
   ],
   "source": [
    "inputCols = [\n",
    "    'lot_size',\n",
    "    'year_built',\n",
    "    'propertyTypeIndex',\n",
    "    'garageIndex',\n",
    "    'streetNameIndex',\n",
    "    'zoningIndex',\n",
    "    'typeIndex',\n",
    "    'property_type_vec',\n",
    "    'garage_vec',\n",
    "    'street_name_vec',\n",
    "    'zoning_vec',\n",
    "    'type_vec'\n",
    "]\n",
    "outputCol = \"features\"\n",
    "df_va = VectorAssembler(inputCols = inputCols, outputCol = outputCol)\n",
    "final_prediction_df = df_va.setHandleInvalid(\"skip\").transform(final_prediction_df)\n",
    "final_prediction_df.select(['features']).toPandas().head(5)"
   ]
  },
  {
   "cell_type": "code",
   "execution_count": 19,
   "metadata": {
    "editable": true
   },
   "outputs": [
    {
     "name": "stdout",
     "output_type": "stream",
     "text": [
      "+--------------------+--------------+\n",
      "|            features|assessed_value|\n",
      "+--------------------+--------------+\n",
      "|(2954,[0,1,4,5,7,...|      350000.0|\n",
      "|(2954,[0,1,4,5,7,...|      508000.0|\n",
      "|(2954,[0,1,4,5,7,...|      360000.0|\n",
      "|(2954,[0,3,4,5,7,...|      157500.0|\n",
      "|(2954,[0,2,3,4,5,...|       92500.0|\n",
      "|(2954,[0,1,3,5,7,...|       14500.0|\n",
      "|(2954,[0,3,4,5,7,...|      144500.0|\n",
      "|(2954,[0,1,4,5,7,...|      538000.0|\n",
      "|(2954,[0,1,4,5,6,...|      327500.0|\n",
      "|(2954,[0,3,4,5,7,...|      126000.0|\n",
      "|(2954,[0,1,3,4,5,...|     1026500.0|\n",
      "|(2954,[0,3,4,5,7,...|       85000.0|\n",
      "|(2954,[0,1,4,5,7,...|      349000.0|\n",
      "|(2954,[0,3,4,5,7,...|       38500.0|\n",
      "|(2954,[0,3,4,5,7,...|      113000.0|\n",
      "|(2954,[0,3,4,5,7,...|      168000.0|\n",
      "|(2954,[0,1,3,4,5,...|      289500.0|\n",
      "|(2954,[0,3,4,5,7,...|      123500.0|\n",
      "|(2954,[0,3,4,5,7,...|      130000.0|\n",
      "|(2954,[0,3,4,5,7,...|      164000.0|\n",
      "+--------------------+--------------+\n",
      "only showing top 20 rows\n",
      "\n"
     ]
    }
   ],
   "source": [
    "new_df = final_prediction_df.select(['features','assessed_value'])\n",
    "new_df.show()"
   ]
  },
  {
   "cell_type": "code",
   "execution_count": 20,
   "metadata": {
    "editable": true
   },
   "outputs": [],
   "source": [
    "# Split data set into training and set datasets\n",
    "splits = new_df.randomSplit([0.7, 0.3])\n",
    "train_df = splits[0]\n",
    "test_df = splits[1]"
   ]
  },
  {
   "cell_type": "code",
   "execution_count": 21,
   "metadata": {
    "editable": true
   },
   "outputs": [
    {
     "data": {
      "text/plain": [
       "279074"
      ]
     },
     "execution_count": 21,
     "metadata": {},
     "output_type": "execute_result"
    }
   ],
   "source": [
    "train_df.count()"
   ]
  },
  {
   "cell_type": "code",
   "execution_count": 22,
   "metadata": {
    "editable": true
   },
   "outputs": [
    {
     "data": {
      "text/plain": [
       "119805"
      ]
     },
     "execution_count": 22,
     "metadata": {},
     "output_type": "execute_result"
    }
   ],
   "source": [
    "test_df.count()"
   ]
  },
  {
   "cell_type": "code",
   "execution_count": null,
   "metadata": {
    "editable": true
   },
   "outputs": [],
   "source": [
    "# Apply Gradient-boosted tree regression algorithm\n",
    "from pyspark.ml.regression import GBTRegressor\n",
    "gbt = GBTRegressor(featuresCol = 'features', labelCol = 'assessed_value', maxIter=10,  maxBins=2846)\n",
    "gbt_model = gbt.fit(train_df)\n",
    "gbt_predictions = gbt_model.transform(test_df)\n",
    "gbt_predictions.select('prediction', 'assessed_value', 'features').show(5)\n"
   ]
  },
  {
   "cell_type": "code",
   "execution_count": null,
   "metadata": {
    "editable": true
   },
   "outputs": [],
   "source": [
    "from pyspark.ml.evaluation import RegressionEvaluator\n",
    "gbt_evaluator = RegressionEvaluator(labelCol=\"assessed_value\", predictionCol=\"prediction\", metricName=\"rmse\")\n",
    "rmse = gbt_evaluator.evaluate(gbt_predictions)\n",
    "print(\"Root Mean Squared Error (RMSE) on test data = %g\" % rmse)"
   ]
  },
  {
   "cell_type": "code",
   "execution_count": null,
   "metadata": {
    "editable": true
   },
   "outputs": [],
   "source": [
    "print(\"Root Mean Squared Error (RMSE) on test data = %g\" % int(rmse))"
   ]
  },
  {
   "cell_type": "markdown",
   "metadata": {
    "editable": true
   },
   "source": [
    "##### The Root Mean Squared Error of 7,508,308 is unacceptable. Although with almost 400000 data rows, the root mean squared error is still very high. Therefore, we are very close to conclude that the features we picked are not all important factors in determining the price of a home. Let's back it up through calculating the feature importance. "
   ]
  },
  {
   "cell_type": "code",
   "execution_count": null,
   "metadata": {
    "editable": true
   },
   "outputs": [],
   "source": [
    " gbt_model.featureImportances"
   ]
  },
  {
   "cell_type": "code",
   "execution_count": null,
   "metadata": {
    "editable": true
   },
   "outputs": [],
   "source": []
  }
 ],
 "metadata": {
  "kernelspec": {
   "display_name": "Python 3",
   "language": "python",
   "name": "python3"
  },
  "language_info": {
   "codemirror_mode": {
    "name": "ipython",
    "version": 3
   },
   "file_extension": ".py",
   "mimetype": "text/x-python",
   "name": "python",
   "nbconvert_exporter": "python",
   "pygments_lexer": "ipython3",
   "version": "3.6.3"
  }
 },
 "nbformat": 4,
 "nbformat_minor": 4
}
